{
 "cells": [
  {
   "cell_type": "code",
   "execution_count": 1,
   "metadata": {},
   "outputs": [],
   "source": [
    "from util import preprocess\n",
    "\n",
    "train_seqs = preprocess.get_sequence(\"data/newly_tokenized/train_auto_tok.tsv\")\n",
    "dev_seqs   = preprocess.get_sequence(\"data/newly_tokenized/dev_auto_tok.tsv\")"
   ]
  },
  {
   "cell_type": "markdown",
   "metadata": {},
   "source": [
    "# 1. Create features"
   ]
  },
  {
   "cell_type": "code",
   "execution_count": 2,
   "metadata": {},
   "outputs": [],
   "source": [
    "def current_word(i, tokens):\n",
    "    return {'w0 word': tokens[i][0]}\n",
    "\n",
    "def current_pos(i, tokens):\n",
    "    return {'w0 pos': tokens[i][2]}\n",
    "\n",
    "def prev_pos(i, tokens):\n",
    "    if i == 0:\n",
    "        return {}\n",
    "    if i == 1:\n",
    "        return {'w-1 pos': tokens[i-1][2]}\n",
    "    return {'w-1 pos': tokens[i-1][2], 'w-2 pos': tokens[i-2][2]}"
   ]
  },
  {
   "cell_type": "code",
   "execution_count": 5,
   "metadata": {},
   "outputs": [
    {
     "name": "stdout",
     "output_type": "stream",
     "text": [
      "{'w0 word': 'ลั่น'}\n",
      "{'w0 pos': 'VV'}\n",
      "{'w-1 pos': 'NN', 'w-2 pos': 'NN'}\n"
     ]
    }
   ],
   "source": [
    "print(current_word(2, train_seqs[0]))\n",
    "print(current_pos(2, train_seqs[0]))\n",
    "print(prev_pos(2, train_seqs[0]))"
   ]
  },
  {
   "cell_type": "code",
   "execution_count": 9,
   "metadata": {},
   "outputs": [
    {
     "name": "stdout",
     "output_type": "stream",
     "text": [
      "{'w0 pos': 'VV', 'w0 word': 'เร่ง', 'w-1 pos': 'NN', 'w-2 pos': 'NN'}\n"
     ]
    }
   ],
   "source": [
    "features = {}\n",
    "features.update(current_pos(3, train_seqs[0]))\n",
    "features.update(current_word(3, train_seqs[0]))\n",
    "features.update(prev_pos(2, train_seqs[0]))\n",
    "print(features)"
   ]
  },
  {
   "cell_type": "code",
   "execution_count": 3,
   "metadata": {},
   "outputs": [],
   "source": [
    "# Featurize text into feature sequences\n",
    "def featurize(feature_function_list, tokens):\n",
    "    feature_dict_seq = []\n",
    "    for i in range(len(tokens)): # ทุก token\n",
    "        feature_dict = {}\n",
    "        for feature_fn in feature_function_list: # ทุก feature function\n",
    "            feature_dict.update(feature_fn(i, tokens))\n",
    "        feature_dict_seq.append(feature_dict)\n",
    "    return feature_dict_seq\n",
    "    \n",
    "def labelize(tokens):\n",
    "    return [e[1] for e in tokens]\n",
    "    \n",
    "feature_function_list = [current_word, current_pos, prev_pos]"
   ]
  },
  {
   "cell_type": "code",
   "execution_count": 4,
   "metadata": {},
   "outputs": [],
   "source": [
    "# X_train, X_dev\n",
    "feature_seq_list = [featurize(feature_function_list, e) for e in train_seqs]\n",
    "dev_feature_seq_list = [featurize(feature_function_list, e) for e in dev_seqs]\n",
    "\n",
    "# Y_train, Y_dev\n",
    "label_seq_list = [labelize(e) for e in train_seqs]\n",
    "dev_label_seq_list = [labelize(e) for e in dev_seqs]"
   ]
  },
  {
   "cell_type": "markdown",
   "metadata": {},
   "source": [
    "# Train CRF"
   ]
  },
  {
   "cell_type": "code",
   "execution_count": 12,
   "metadata": {},
   "outputs": [
    {
     "name": "stderr",
     "output_type": "stream",
     "text": [
      "/home/samsatp/contest3/venv/lib/python3.8/site-packages/sklearn/base.py:209: FutureWarning: From version 0.24, get_params will raise an AttributeError if a parameter cannot be retrieved as an instance attribute. Previously it would return None.\n",
      "  warnings.warn('From version 0.24, get_params will raise an '\n"
     ]
    },
    {
     "data": {
      "text/plain": [
       "CRF(keep_tempfiles=None)"
      ]
     },
     "execution_count": 12,
     "metadata": {},
     "output_type": "execute_result"
    }
   ],
   "source": [
    "import sklearn_crfsuite\n",
    "crf = sklearn_crfsuite.CRF()\n",
    "crf.fit(feature_seq_list, label_seq_list)"
   ]
  },
  {
   "cell_type": "code",
   "execution_count": 13,
   "metadata": {},
   "outputs": [],
   "source": [
    "pred = crf.predict(feature_seq_list)"
   ]
  },
  {
   "cell_type": "markdown",
   "metadata": {},
   "source": [
    "### save model"
   ]
  },
  {
   "cell_type": "code",
   "execution_count": null,
   "metadata": {},
   "outputs": [],
   "source": [
    "import joblib\n",
    "filename = 'models/crf_3_feat.crfsuite'\n",
    "joblib.dump(crf, filename)"
   ]
  },
  {
   "cell_type": "markdown",
   "metadata": {},
   "source": [
    "# Load trained model"
   ]
  },
  {
   "cell_type": "code",
   "execution_count": 7,
   "metadata": {},
   "outputs": [],
   "source": [
    "import joblib\n",
    "filename = 'models/crf_3_feat.crfsuite'\n",
    "loaded_model = joblib.load(filename)\n",
    "\n",
    "# Inferencec\n",
    "train_pred = loaded_model.predict(feature_seq_list)\n",
    "dev_pred = loaded_model.predict(dev_feature_seq_list)"
   ]
  },
  {
   "cell_type": "code",
   "execution_count": null,
   "metadata": {},
   "outputs": [],
   "source": [
    "import sklearn_crfsuite.metrics\n",
    "print(sklearn_crfsuite.metrics.flat_classification_report(label_seq_list, train_pred))"
   ]
  },
  {
   "cell_type": "code",
   "execution_count": 18,
   "metadata": {},
   "outputs": [],
   "source": [
    "def joinSeqTag(seqs, tags):\n",
    "    output = []\n",
    "    for i in range(len(seqs)):\n",
    "        temp = []\n",
    "        for token, tag in zip(seqs[i], tags[i]):\n",
    "            if tag != \"O\":\n",
    "                temp.append( (token[0],tag) )\n",
    "\n",
    "        output.append(temp)\n",
    "        \n",
    "    return output\n",
    "\n",
    "dev_output = joinSeqTag(dev_seqs, dev_pred)\n",
    "\n",
    "from lst20utils import extract_entities\n",
    "out = [extract_entities(e, post=True)[1] for e in dev_output]"
   ]
  },
  {
   "cell_type": "markdown",
   "metadata": {},
   "source": [
    "# Save result"
   ]
  },
  {
   "cell_type": "code",
   "execution_count": 19,
   "metadata": {},
   "outputs": [],
   "source": [
    "import json\n",
    "json.dump(out, open('result/predicted_dev_entities.json', encoding='utf8', mode='w'))"
   ]
  },
  {
   "cell_type": "code",
   "execution_count": 20,
   "metadata": {},
   "outputs": [
    {
     "data": {
      "text/plain": [
       "[('DES', 'ร.ต.อ.'),\n",
       " ('PER', 'เฉลิมอยู่บำรุง'),\n",
       " ('DES', 'ส.ส.'),\n",
       " ('ORG', 'พรรคเพื่อไทย')]"
      ]
     },
     "execution_count": 20,
     "metadata": {},
     "output_type": "execute_result"
    }
   ],
   "source": [
    "out[2]"
   ]
  },
  {
   "cell_type": "code",
   "execution_count": null,
   "metadata": {},
   "outputs": [],
   "source": []
  }
 ],
 "metadata": {
  "interpreter": {
   "hash": "21fd0c4c56f232978d37f42fade3398e333d4f11a8a30408db82c91c0032412b"
  },
  "kernelspec": {
   "display_name": "Python 3.8.10 ('venv': venv)",
   "language": "python",
   "name": "python3"
  },
  "language_info": {
   "codemirror_mode": {
    "name": "ipython",
    "version": 3
   },
   "file_extension": ".py",
   "mimetype": "text/x-python",
   "name": "python",
   "nbconvert_exporter": "python",
   "pygments_lexer": "ipython3",
   "version": "3.8.10"
  },
  "orig_nbformat": 4
 },
 "nbformat": 4,
 "nbformat_minor": 2
}
