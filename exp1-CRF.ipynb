{
 "cells": [
  {
   "cell_type": "code",
   "execution_count": 2,
   "metadata": {},
   "outputs": [],
   "source": [
    "from util import preprocess\n",
    "\n",
    "train_seqs = preprocess.get_sequence(\"data/newly_tokenized/train_auto_tok.tsv\")"
   ]
  },
  {
   "cell_type": "code",
   "execution_count": 3,
   "metadata": {},
   "outputs": [
    {
     "data": {
      "text/plain": [
       "[['รมว.', 'B_DES', 'NN'],\n",
       " ['พม.', 'B_ORG', 'NN'],\n",
       " ['ลั่น', 'O', 'VV'],\n",
       " ['เร่ง', 'O', 'VV'],\n",
       " ['ปราบปราม', 'O', 'VV'],\n",
       " ['\"', 'O', 'PU'],\n",
       " ['ค้า', 'O', 'VV'],\n",
       " ['มนุษย์', 'O', 'NN'],\n",
       " ['\"', 'O', 'PU']]"
      ]
     },
     "execution_count": 3,
     "metadata": {},
     "output_type": "execute_result"
    }
   ],
   "source": [
    "train_seqs[0]"
   ]
  },
  {
   "cell_type": "markdown",
   "metadata": {},
   "source": [
    "# Create features"
   ]
  },
  {
   "cell_type": "code",
   "execution_count": 4,
   "metadata": {},
   "outputs": [],
   "source": [
    "def current_word(i, tokens):\n",
    "    return {'w0 word': tokens[i][0]}\n",
    "\n",
    "def current_pos(i, tokens):\n",
    "    return {'w0 pos': tokens[i][2]}\n",
    "\n",
    "def prev_pos(i, tokens):\n",
    "    if i == 0:\n",
    "        return {}\n",
    "    if i == 1:\n",
    "        return {'w-1 pos': tokens[i-1][2]}\n",
    "    return {'w-1 pos': tokens[i-1][2], 'w-2 pos': tokens[i-2][2]}"
   ]
  },
  {
   "cell_type": "code",
   "execution_count": 5,
   "metadata": {},
   "outputs": [
    {
     "name": "stdout",
     "output_type": "stream",
     "text": [
      "{'w0 word': 'ลั่น'}\n",
      "{'w0 pos': 'VV'}\n",
      "{'w-1 pos': 'NN', 'w-2 pos': 'NN'}\n"
     ]
    }
   ],
   "source": [
    "print(current_word(2, train_seqs[0]))\n",
    "print(current_pos(2, train_seqs[0]))\n",
    "print(prev_pos(2, train_seqs[0]))"
   ]
  },
  {
   "cell_type": "code",
   "execution_count": 9,
   "metadata": {},
   "outputs": [
    {
     "name": "stdout",
     "output_type": "stream",
     "text": [
      "{'w0 pos': 'VV', 'w0 word': 'เร่ง', 'w-1 pos': 'NN', 'w-2 pos': 'NN'}\n"
     ]
    }
   ],
   "source": [
    "features = {}\n",
    "features.update(current_pos(3, train_seqs[0]))\n",
    "features.update(current_word(3, train_seqs[0]))\n",
    "features.update(prev_pos(2, train_seqs[0]))\n",
    "print(features)"
   ]
  },
  {
   "cell_type": "code",
   "execution_count": 6,
   "metadata": {},
   "outputs": [],
   "source": [
    "# Featurize text into feature sequences\n",
    "def featurize(feature_function_list, tokens):\n",
    "    feature_dict_seq = []\n",
    "    for i in range(len(tokens)): # ทุก token\n",
    "        feature_dict = {}\n",
    "        for feature_fn in feature_function_list: # ทุก feature function\n",
    "            feature_dict.update(feature_fn(i, tokens))\n",
    "        feature_dict_seq.append(feature_dict)\n",
    "    return feature_dict_seq\n",
    "    \n",
    "feature_function_list = [current_word, current_pos, prev_pos]"
   ]
  },
  {
   "cell_type": "code",
   "execution_count": 7,
   "metadata": {},
   "outputs": [],
   "source": [
    "feature_seq_list = [featurize(feature_function_list, e) for e in train_seqs]"
   ]
  },
  {
   "cell_type": "code",
   "execution_count": 9,
   "metadata": {},
   "outputs": [],
   "source": [
    "def labelize(tokens):\n",
    "    return [e[1] for e in tokens]"
   ]
  },
  {
   "cell_type": "code",
   "execution_count": 10,
   "metadata": {},
   "outputs": [],
   "source": [
    "label_seq_list = [labelize(e) for e in train_seqs]"
   ]
  },
  {
   "cell_type": "markdown",
   "metadata": {},
   "source": [
    "# Train CRF"
   ]
  },
  {
   "cell_type": "code",
   "execution_count": 12,
   "metadata": {},
   "outputs": [],
   "source": [
    "import sklearn_crfsuite\n",
    "crf = sklearn_crfsuite.CRF()\n",
    "crf.fit(feature_seq_list, label_seq_list)"
   ]
  },
  {
   "cell_type": "code",
   "execution_count": null,
   "metadata": {},
   "outputs": [],
   "source": []
  }
 ],
 "metadata": {
  "interpreter": {
   "hash": "21fd0c4c56f232978d37f42fade3398e333d4f11a8a30408db82c91c0032412b"
  },
  "kernelspec": {
   "display_name": "Python 3.8.10 ('venv': venv)",
   "language": "python",
   "name": "python3"
  },
  "language_info": {
   "codemirror_mode": {
    "name": "ipython",
    "version": 3
   },
   "file_extension": ".py",
   "mimetype": "text/x-python",
   "name": "python",
   "nbconvert_exporter": "python",
   "pygments_lexer": "ipython3",
   "version": "3.8.10"
  },
  "orig_nbformat": 4
 },
 "nbformat": 4,
 "nbformat_minor": 2
}
