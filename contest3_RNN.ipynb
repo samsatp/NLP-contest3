{
  "nbformat": 4,
  "nbformat_minor": 0,
  "metadata": {
    "colab": {
      "name": "Copy of contest3_rnn.ipynb",
      "provenance": [],
      "collapsed_sections": [],
      "include_colab_link": true
    },
    "kernelspec": {
      "name": "python3",
      "display_name": "Python 3"
    },
    "language_info": {
      "name": "python"
    },
    "accelerator": "GPU"
  },
  "cells": [
    {
      "cell_type": "markdown",
      "metadata": {
        "id": "view-in-github",
        "colab_type": "text"
      },
      "source": [
        "<a href=\"https://colab.research.google.com/github/samsatp/NLP-contest3/blob/main/contest3_RNN.ipynb\" target=\"_parent\"><img src=\"https://colab.research.google.com/assets/colab-badge.svg\" alt=\"Open In Colab\"/></a>"
      ]
    },
    {
      "cell_type": "code",
      "execution_count": 1,
      "metadata": {
        "colab": {
          "base_uri": "https://localhost:8080/"
        },
        "id": "sTGtpj3MIB41",
        "outputId": "e7ff1112-223e-4d00-8f1f-6d43cd74c9b7"
      },
      "outputs": [
        {
          "output_type": "stream",
          "name": "stdout",
          "text": [
            "Cloning into 'NLP-contest3'...\n",
            "remote: Enumerating objects: 31, done.\u001b[K\n",
            "remote: Counting objects: 100% (31/31), done.\u001b[K\n",
            "remote: Compressing objects: 100% (23/23), done.\u001b[K\n",
            "remote: Total 31 (delta 11), reused 20 (delta 6), pack-reused 0\u001b[K\n",
            "Unpacking objects: 100% (31/31), done.\n",
            "Downloading...\n",
            "From: https://drive.google.com/uc?id=1LGWy5VGVk6TXz_ZaYwGBvwJc5vFBzeZe\n",
            "To: /content/data.zip\n",
            "100% 24.1M/24.1M [00:00<00:00, 188MB/s]\n",
            "Archive:  /content/data.zip\n",
            "  inflating: dev_auto_tok.tsv        \n",
            "  inflating: dev_entities.json       \n",
            "  inflating: newly_tokenized/dev_auto_tok.tsv  \n",
            "  inflating: newly_tokenized/dev_entities.json  \n",
            "  inflating: newly_tokenized/train_auto_tok.tsv  \n",
            "  inflating: newly_tokenized/train_entities.json  \n",
            "  inflating: raw/dev_set.txt         \n",
            "  inflating: raw/test_set.txt        \n",
            "  inflating: train_auto_tok.tsv      \n",
            "  inflating: train_entities.json     \n"
          ]
        }
      ],
      "source": [
        "!git clone https://github.com/samsatp/NLP-contest3.git\n",
        "\n",
        "!gdown 1LGWy5VGVk6TXz_ZaYwGBvwJc5vFBzeZe\n",
        "!unzip /content/data.zip\n",
        "!rm /content/data.zip"
      ]
    },
    {
      "cell_type": "code",
      "source": [
        "!mkdir /content/result\n",
        "!mkdir /content/models"
      ],
      "metadata": {
        "id": "-ro0Yvn61_RD"
      },
      "execution_count": 2,
      "outputs": []
    },
    {
      "cell_type": "code",
      "source": [
        "import importlib  \n",
        "preprocess = importlib.import_module(\"NLP-contest3.util.preprocess\")\n",
        "lst20utils = importlib.import_module(\"NLP-contest3.lst20utils\")\n",
        "\n",
        "\n",
        "train_seqs = preprocess.get_sequence(\"/content/train_auto_tok.tsv\")\n",
        "dev_seqs = preprocess.get_sequence(\"/content/dev_auto_tok.tsv\")"
      ],
      "metadata": {
        "id": "OHUrOIHiIUht"
      },
      "execution_count": 3,
      "outputs": []
    },
    {
      "cell_type": "code",
      "source": [
        "X_train_raw = [\n",
        "                '|'.join([e[0] for e in row])\n",
        "                for row in train_seqs\n",
        "            ]\n",
        "\n",
        "Y_train_raw = [\n",
        "                [e[1] for e in row]\n",
        "                for row in train_seqs\n",
        "            ]\n",
        "\n",
        "X_dev_raw = [\n",
        "                '|'.join([e[0] for e in row]) \n",
        "                for row in dev_seqs\n",
        "            ]\n",
        "\n",
        "Y_dev_raw = [\n",
        "                [e[1] for e in row]\n",
        "                for row in dev_seqs\n",
        "            ]"
      ],
      "metadata": {
        "id": "VjaWQraaGzcX"
      },
      "execution_count": 4,
      "outputs": []
    },
    {
      "cell_type": "code",
      "source": [
        "tags = ['I_LOC', 'B_LOC', 'B_MEA', 'B_NUM', 'I_ORG', 'I_DES', 'I_MEA', 'B_TRM', 'B_DTM', 'B_DES', 'B_BRN', 'I_PER', 'I_NUM', 'B_ORG', 'I_DTM', 'I_BRN', 'B_PER', 'I_TRM', 'I_TTL', 'B_TTL']"
      ],
      "metadata": {
        "id": "x38vMJPOCHX6"
      },
      "execution_count": 33,
      "outputs": []
    },
    {
      "cell_type": "markdown",
      "source": [
        "sample of raw data"
      ],
      "metadata": {
        "id": "jtGyytBj8I3k"
      }
    },
    {
      "cell_type": "code",
      "source": [
        "X_train_raw[0], Y_train_raw[0]"
      ],
      "metadata": {
        "colab": {
          "base_uri": "https://localhost:8080/"
        },
        "id": "aq_MRDTK5CdQ",
        "outputId": "1dc1153c-28bc-4fa1-dbb1-1596577f6dcb"
      },
      "execution_count": 5,
      "outputs": [
        {
          "output_type": "execute_result",
          "data": {
            "text/plain": [
              "('ธรรมนูญ|แชมป์|สิงห์|คลาสสิก|กวาด|รางวัล|แสน|สี่|หมื่น|บาท',\n",
              " ['B_PER', 'O', 'O', 'O', 'O', 'O', 'O', 'O', 'O', 'O'])"
            ]
          },
          "metadata": {},
          "execution_count": 5
        }
      ]
    },
    {
      "cell_type": "markdown",
      "source": [
        "Find the appropriate sequence length to pad, truncate"
      ],
      "metadata": {
        "id": "Z_y08SKffgMF"
      }
    },
    {
      "cell_type": "code",
      "source": [
        "len_seqs = [ e.count(\"|\") for e in X_train_raw]\n",
        "\n",
        "import matplotlib.pyplot as plt\n",
        "plt.hist(len_seqs);"
      ],
      "metadata": {
        "colab": {
          "base_uri": "https://localhost:8080/",
          "height": 265
        },
        "id": "P79guIvzNv1e",
        "outputId": "765bf557-c206-4055-ac81-12b2ded154cb"
      },
      "execution_count": 6,
      "outputs": [
        {
          "output_type": "display_data",
          "data": {
            "text/plain": [
              "<Figure size 432x288 with 1 Axes>"
            ],
            "image/png": "[encoded data removed]"
          },
          "metadata": {
            "needs_background": "light"
          }
        }
      ]
    },
    {
      "cell_type": "code",
      "source": [
        "import numpy as np\n",
        "print(np.mean(len_seqs))\n",
        "print(np.median(len_seqs))"
      ],
      "metadata": {
        "colab": {
          "base_uri": "https://localhost:8080/"
        },
        "id": "9jiCdZ3sOAKW",
        "outputId": "66383a5e-a91b-41d2-b3d9-9d279f79d66c"
      },
      "execution_count": 7,
      "outputs": [
        {
          "output_type": "stream",
          "name": "stdout",
          "text": [
            "38.92836834623282\n",
            "33.0\n"
          ]
        }
      ]
    },
    {
      "cell_type": "markdown",
      "source": [
        "# 1. Data class"
      ],
      "metadata": {
        "id": "GnjtDwbF90cP"
      }
    },
    {
      "cell_type": "code",
      "source": [
        "import tensorflow as tf\n",
        "\n",
        "class SeqData:\n",
        "    def __init__(self, X, Y, maxlen):\n",
        "        self.X = X \n",
        "        self.Y = Y\n",
        "        self.maxlen = maxlen\n",
        "        self.inp_tokenizer = tf.keras.preprocessing.text.Tokenizer(\n",
        "                            filters='',\n",
        "                            lower=False,\n",
        "                            split='|',\n",
        "                            char_level=False,\n",
        "                            oov_token='<OOV>'\n",
        "                        )\n",
        "        self.tag_tokenizer = tf.keras.preprocessing.text.Tokenizer(\n",
        "                            filters='',\n",
        "                            lower=False,\n",
        "                            oov_token='<OOV>'\n",
        "                        )\n",
        "        self.inp_tokenizer.fit_on_texts(X)\n",
        "        self.tag_tokenizer.fit_on_texts(Y)\n",
        "    \n",
        "    def padding(self, seqs, dtype='int32', value=0.0):\n",
        "        return tf.keras.preprocessing.sequence.pad_sequences(seqs, padding='post', truncating='post', maxlen=self.maxlen, dtype=dtype, value=value)\n",
        "\n",
        "    def preprocess_X(self, X):\n",
        "        tokens = self.inp_tokenizer.texts_to_sequences(X)\n",
        "        tokens_pad =  self.padding(tokens)\n",
        "        return tokens_pad\n",
        "\n",
        "    def preprocess_Y(self, Y):\n",
        "        tags   = self.tag_tokenizer.texts_to_sequences(Y)\n",
        "        tags_pad   =  self.padding(tags)\n",
        "        return tags_pad\n",
        "\n",
        "    def preprocess(self, X, Y):\n",
        "        return self.preprocess_X(X), self.preprocess_Y(Y)\n",
        "\n",
        "    def load_dataset(self, X, Y, BATCH_SIZE):\n",
        "\n",
        "        tokens, targets = self.preprocess(X, Y)\n",
        "\n",
        "        # create dataset\n",
        "        if BATCH_SIZE:\n",
        "            dataset = tf.data.Dataset.from_tensor_slices((tokens, targets))\\\n",
        "                        .shuffle(1000)\\\n",
        "                        .batch(BATCH_SIZE, drop_remainder=True)\n",
        "        else:\n",
        "            dataset = tf.data.Dataset.from_tensor_slices((tokens, targets))\\\n",
        "                        .shuffle(1000)\\\n",
        "                        .batch(len(X_dev_raw), drop_remainder=True)\n",
        "\n",
        "\n",
        "        return dataset, self.inp_tokenizer, self.tag_tokenizer"
      ],
      "metadata": {
        "id": "5Ha7YG5R2jB6"
      },
      "execution_count": 8,
      "outputs": []
    },
    {
      "cell_type": "code",
      "source": [
        "data_creator = SeqData(X_train_raw, Y_train_raw, maxlen=100)\n",
        "\n",
        "train_dataset, inp_tokenizer, tag_tokenizer = data_creator.load_dataset(X_train_raw, Y_train_raw, 32)\n",
        "dev_dataset, _, _ = data_creator.load_dataset(X_dev_raw, Y_dev_raw, BATCH_SIZE=None)"
      ],
      "metadata": {
        "id": "C5QjaaaF8C64"
      },
      "execution_count": 9,
      "outputs": []
    },
    {
      "cell_type": "code",
      "source": [
        "example_X_batch, example_Y_batch = next(iter(train_dataset))\n",
        "print(example_X_batch.shape, example_Y_batch.shape)"
      ],
      "metadata": {
        "colab": {
          "base_uri": "https://localhost:8080/"
        },
        "id": "dNtOLgDzBguN",
        "outputId": "abe64f3b-de10-4012-c937-2eaaa821b136"
      },
      "execution_count": 10,
      "outputs": [
        {
          "output_type": "stream",
          "name": "stdout",
          "text": [
            "(32, 100) (32, 100)\n"
          ]
        }
      ]
    },
    {
      "cell_type": "code",
      "source": [
        "example_X_batch"
      ],
      "metadata": {
        "colab": {
          "base_uri": "https://localhost:8080/"
        },
        "id": "MBuTqT9SJpos",
        "outputId": "cc0d4766-a934-49b6-8d8c-127130fd36b9"
      },
      "execution_count": 11,
      "outputs": [
        {
          "output_type": "execute_result",
          "data": {
            "text/plain": [
              "<tf.Tensor: shape=(32, 100), dtype=int32, numpy=\n",
              "array([[   96,     9, 17850, ...,     0,     0,     0],\n",
              "       [  799,  1188,     2, ...,     0,     0,     0],\n",
              "       [   34,    74,     2, ...,     0,     0,     0],\n",
              "       ...,\n",
              "       [  169,     2,    45, ...,     0,     0,     0],\n",
              "       [   15,   261,  1905, ...,     0,     0,     0],\n",
              "       [  305,  2085,  3668, ...,     0,     0,     0]], dtype=int32)>"
            ]
          },
          "metadata": {},
          "execution_count": 11
        }
      ]
    },
    {
      "cell_type": "code",
      "source": [
        "example_Y_batch"
      ],
      "metadata": {
        "colab": {
          "base_uri": "https://localhost:8080/"
        },
        "id": "xZNEBmJcCXVA",
        "outputId": "8e4564e4-1601-4931-c97a-b2d46f967f81"
      },
      "execution_count": 12,
      "outputs": [
        {
          "output_type": "execute_result",
          "data": {
            "text/plain": [
              "<tf.Tensor: shape=(32, 100), dtype=int32, numpy=\n",
              "array([[ 2,  2,  2, ...,  0,  0,  0],\n",
              "       [ 5,  2,  2, ...,  0,  0,  0],\n",
              "       [ 2, 14,  7, ...,  0,  0,  0],\n",
              "       ...,\n",
              "       [ 2,  2,  2, ...,  0,  0,  0],\n",
              "       [ 2,  5,  4, ...,  0,  0,  0],\n",
              "       [ 2,  2,  2, ...,  0,  0,  0]], dtype=int32)>"
            ]
          },
          "metadata": {},
          "execution_count": 12
        }
      ]
    },
    {
      "cell_type": "markdown",
      "source": [
        "# 2. params"
      ],
      "metadata": {
        "id": "OTAjP_mm93vt"
      }
    },
    {
      "cell_type": "code",
      "source": [
        "vocab_inp_size = len(inp_tokenizer.word_index)+1\n",
        "vocab_tar_size = len(tag_tokenizer.word_index)+1\n",
        "max_length_input = example_X_batch.shape[1]\n",
        "max_length_output = example_Y_batch.shape[1]\n",
        "\n",
        "embedding_dim = 64"
      ],
      "metadata": {
        "id": "q595S90E4ue1"
      },
      "execution_count": 35,
      "outputs": []
    },
    {
      "cell_type": "code",
      "source": [
        "import tensorflow as tf\n",
        "from tensorflow.keras.models import Sequential\n",
        "from tensorflow.keras.layers import Embedding, Bidirectional, GRU, Dense, Conv1D, GlobalMaxPooling1D\n",
        "\n",
        "filters = 100\n",
        "kernel_size = 3\n",
        "\n",
        "\n",
        "model = Sequential()\n",
        "model.add(Embedding(input_dim=vocab_inp_size, output_dim=embedding_dim, mask_zero=True))\n",
        "model.add(Bidirectional(GRU(units=64, return_sequences=True, dropout=0.5)))\n",
        "''' model.add(\n",
        "    Conv1D(filters,\n",
        "            kernel_size,\n",
        "            activation='relu',\n",
        "            padding='same',\n",
        "            strides=1,)\n",
        ") '''\n",
        "\n",
        "model.add(Dense(vocab_tar_size, activation='softmax'))\n",
        "model.compile(optimizer=\"adam\", loss=\"sparse_categorical_crossentropy\", metrics=[\"accuracy\"])\n",
        "model.summary()"
      ],
      "metadata": {
        "colab": {
          "base_uri": "https://localhost:8080/"
        },
        "id": "jKDpv1808zSw",
        "outputId": "a51b4532-705d-4b84-f27a-53c0c9b5bb6f"
      },
      "execution_count": 50,
      "outputs": [
        {
          "output_type": "stream",
          "name": "stdout",
          "text": [
            "Model: \"sequential_8\"\n",
            "_________________________________________________________________\n",
            " Layer (type)                Output Shape              Param #   \n",
            "=================================================================\n",
            " embedding_8 (Embedding)     (None, None, 64)          2292352   \n",
            "                                                                 \n",
            " conv1d_6 (Conv1D)           (None, None, 100)         19300     \n",
            "                                                                 \n",
            " dense_8 (Dense)             (None, None, 25)          2525      \n",
            "                                                                 \n",
            "=================================================================\n",
            "Total params: 2,314,177\n",
            "Trainable params: 2,314,177\n",
            "Non-trainable params: 0\n",
            "_________________________________________________________________\n"
          ]
        }
      ]
    },
    {
      "cell_type": "code",
      "source": [
        "train_dataset, _, _ = data_creator.load_dataset(X_train_raw, Y_train_raw, BATCH_SIZE=32)\n",
        "dev_dataset, _, _ = data_creator.load_dataset(X_dev_raw, Y_dev_raw, BATCH_SIZE=32)"
      ],
      "metadata": {
        "id": "rdQPXqehFBli"
      },
      "execution_count": 51,
      "outputs": []
    },
    {
      "cell_type": "code",
      "source": [
        "history = model.fit(train_dataset, epochs=5, verbose=1, validation_data=dev_dataset)"
      ],
      "metadata": {
        "colab": {
          "base_uri": "https://localhost:8080/"
        },
        "id": "RdD21HvwGWXD",
        "outputId": "c420893f-ca1c-4407-9f4a-0dc54782f6e1"
      },
      "execution_count": 52,
      "outputs": [
        {
          "output_type": "stream",
          "name": "stdout",
          "text": [
            "Epoch 1/5\n",
            "1978/1978 [==============================] - 18s 9ms/step - loss: 0.1881 - accuracy: 0.9570 - val_loss: 0.1257 - val_accuracy: 0.9573\n",
            "Epoch 2/5\n",
            "1978/1978 [==============================] - 16s 8ms/step - loss: 0.0881 - accuracy: 0.9689 - val_loss: 0.1191 - val_accuracy: 0.9588\n",
            "Epoch 3/5\n",
            "1978/1978 [==============================] - 15s 8ms/step - loss: 0.0801 - accuracy: 0.9712 - val_loss: 0.1179 - val_accuracy: 0.9591\n",
            "Epoch 4/5\n",
            "1978/1978 [==============================] - 15s 8ms/step - loss: 0.0754 - accuracy: 0.9725 - val_loss: 0.1187 - val_accuracy: 0.9593\n",
            "Epoch 5/5\n",
            "1978/1978 [==============================] - 16s 8ms/step - loss: 0.0721 - accuracy: 0.9735 - val_loss: 0.1207 - val_accuracy: 0.9597\n"
          ]
        }
      ]
    },
    {
      "cell_type": "code",
      "source": [
        "model.save('/content/cnn_3.h5')"
      ],
      "metadata": {
        "id": "dbTSoLAh96RU"
      },
      "execution_count": 53,
      "outputs": []
    },
    {
      "cell_type": "markdown",
      "source": [
        "# Test model output"
      ],
      "metadata": {
        "id": "4RG7jjsbQOaZ"
      }
    },
    {
      "cell_type": "code",
      "source": [
        "def get_output(model, X, tag_tokenizer=tag_tokenizer):\n",
        "    y_pred = model.predict(X)\n",
        "    y_pred = np.argmax(y_pred, -1)\n",
        "\n",
        "    output = []\n",
        "    for e in y_pred:\n",
        "        output.append(tag_tokenizer.sequences_to_texts([e]))\n",
        "    \n",
        "    return output"
      ],
      "metadata": {
        "id": "BFAcuNtMQSFJ"
      },
      "execution_count": 18,
      "outputs": []
    },
    {
      "cell_type": "code",
      "source": [
        "dev_dataset, _, _ = data_creator.load_dataset(X_dev_raw, Y_dev_raw, BATCH_SIZE=None)\n",
        "\n",
        "X_dev_example, Y_dev_example = next(iter(dev_dataset))\n",
        "dev_example_pred = get_output(model, X_dev_example)"
      ],
      "metadata": {
        "id": "H7BVkmufR4qI"
      },
      "execution_count": 19,
      "outputs": []
    },
    {
      "cell_type": "code",
      "source": [
        "dev_example_pred[2]"
      ],
      "metadata": {
        "colab": {
          "base_uri": "https://localhost:8080/"
        },
        "id": "IcZQHQ-VSe5x",
        "outputId": "26807aab-0194-4266-cf98-21c536f7fc43"
      },
      "execution_count": 20,
      "outputs": [
        {
          "output_type": "execute_result",
          "data": {
            "text/plain": [
              "['O O O O O O O O O O O O O O O O O O O O O O O O O O O O O O O O O O O O O O O O O O O O O O O O O O O O O O O O O O O O O O O O O O O O O O O O O O O O O O O O O O O O O O O O O O O O O O O O O O O O']"
            ]
          },
          "metadata": {},
          "execution_count": 20
        }
      ]
    },
    {
      "cell_type": "markdown",
      "source": [
        "## Test load"
      ],
      "metadata": {
        "id": "347nx_BJIs8n"
      }
    },
    {
      "cell_type": "code",
      "source": [
        "loaded_model =  tf.keras.models.load_model('/content/cnn_3.h5')\n",
        "\n",
        "output_example = get_output(loaded_model, X_dev_example)\n",
        "print(\"predicted:\", output_example[2])"
      ],
      "metadata": {
        "colab": {
          "base_uri": "https://localhost:8080/"
        },
        "id": "rvD4AnY5Hvbf",
        "outputId": "2969c85a-2003-483a-f85d-5ae0b679ded0"
      },
      "execution_count": 61,
      "outputs": [
        {
          "output_type": "stream",
          "name": "stdout",
          "text": [
            "predicted: ['O O B_DTM I_DTM O O O O O O O O O O O O O O O O O O O O O O O O O O I_PER O I_PER I_PER I_PER I_PER O O O O O O O O O O O I_LOC O B_LOC B_LOC I_LOC O O <OOV> <OOV> <OOV> <OOV> <OOV> <OOV> <OOV> <OOV> <OOV> <OOV> <OOV> <OOV> <OOV> <OOV> <OOV> <OOV> <OOV> <OOV> <OOV> <OOV> <OOV> <OOV> <OOV> <OOV> <OOV> <OOV> <OOV> <OOV> <OOV> <OOV> <OOV> <OOV> <OOV> <OOV> <OOV> <OOV> <OOV> <OOV> <OOV> <OOV> <OOV> <OOV> <OOV> <OOV> <OOV> <OOV>']\n"
          ]
        }
      ]
    },
    {
      "cell_type": "markdown",
      "source": [
        "## Predict dev set"
      ],
      "metadata": {
        "id": "O1Etmqp7Lvjw"
      }
    },
    {
      "cell_type": "code",
      "source": [
        "dev_dataset = data_creator.preprocess_X(X_dev_raw)\n",
        "output_dev = get_output(loaded_model, dev_dataset)\n",
        "\n",
        "import json\n",
        "with open(\"/content/cnn_3_dev_pred.json\",\"w\") as f:\n",
        "    json.dump(output_dev, f)"
      ],
      "metadata": {
        "id": "xN_4VeItLxVE"
      },
      "execution_count": 62,
      "outputs": []
    },
    {
      "cell_type": "markdown",
      "source": [
        "## Predict test set"
      ],
      "metadata": {
        "id": "-jqN9pUlJuAK"
      }
    },
    {
      "cell_type": "code",
      "source": [
        "with open(\"/content/raw/test_set.txt\", \"r\") as f:\n",
        "    test_set = f.readlines()\n",
        "\n",
        "print(len(test_set))\n",
        "print(test_set[:2])"
      ],
      "metadata": {
        "colab": {
          "base_uri": "https://localhost:8080/"
        },
        "id": "8YNEGnLuJ4k6",
        "outputId": "481dd8ac-f83b-454a-8aea-958c02c4c831"
      },
      "execution_count": 55,
      "outputs": [
        {
          "output_type": "stream",
          "name": "stdout",
          "text": [
            "5250\n",
            "['สั่ง|คุม|เข้ม|\"|ชุมชน|แพง|เพียบ|\"| |โละ|สินค้า|พลัง|แสงอาทิตย์\\n', '\"กอร์ป|ศักดิ์|\"| |ตัดปัญหา|ทุจริต|โครงการ|ชุมชน|พอเพียง| |สั่งห้าม|อนุมัติ|โครงการ|พลังงานแสงอาทิตย์|ฉาว| |พร้อม|ประสาน|สำนัก|งบ|ฯ| |ส่ง|ราคา|กลาง|สินค้า|ยอดนิยม|ให้|ชุมชน| |อ้าง|ยอดเงิน|ดำเนินการ| |5.3| |พัน|ล้าน| |มี|แค่| |50| |ล้าน|ที่|มีปัญหา\\n']\n"
          ]
        }
      ]
    },
    {
      "cell_type": "code",
      "source": [
        "loaded_model.summary()"
      ],
      "metadata": {
        "colab": {
          "base_uri": "https://localhost:8080/"
        },
        "id": "vF_SIBTNG-I6",
        "outputId": "42f01c50-9f5f-40af-87a3-b59e17a9b01f"
      },
      "execution_count": 56,
      "outputs": [
        {
          "output_type": "stream",
          "name": "stdout",
          "text": [
            "Model: \"sequential_8\"\n",
            "_________________________________________________________________\n",
            " Layer (type)                Output Shape              Param #   \n",
            "=================================================================\n",
            " embedding_8 (Embedding)     (None, None, 64)          2292352   \n",
            "                                                                 \n",
            " conv1d_6 (Conv1D)           (None, None, 100)         19300     \n",
            "                                                                 \n",
            " dense_8 (Dense)             (None, None, 25)          2525      \n",
            "                                                                 \n",
            "=================================================================\n",
            "Total params: 2,314,177\n",
            "Trainable params: 2,314,177\n",
            "Non-trainable params: 0\n",
            "_________________________________________________________________\n"
          ]
        }
      ]
    },
    {
      "cell_type": "code",
      "source": [
        "test_dataset = data_creator.preprocess_X(test_set)\n",
        "output_test = get_output(loaded_model, test_dataset)\n",
        "len(output_test)"
      ],
      "metadata": {
        "colab": {
          "base_uri": "https://localhost:8080/"
        },
        "id": "1FCo2BPZJ3QZ",
        "outputId": "a9d180d1-accc-4941-de37-7cc96a14be66"
      },
      "execution_count": 57,
      "outputs": [
        {
          "output_type": "execute_result",
          "data": {
            "text/plain": [
              "5250"
            ]
          },
          "metadata": {},
          "execution_count": 57
        }
      ]
    },
    {
      "cell_type": "markdown",
      "source": [
        "## Save result"
      ],
      "metadata": {
        "id": "XzYcpDq6LttN"
      }
    },
    {
      "cell_type": "code",
      "source": [
        "import json\n",
        "\n",
        "with open(\"/content/cnn_3_test_pred.json\",\"w\") as f:\n",
        "    json.dump(output_test, f)"
      ],
      "metadata": {
        "id": "aXW0YZLZJ3oV"
      },
      "execution_count": 58,
      "outputs": []
    },
    {
      "cell_type": "markdown",
      "source": [
        "# Post transform"
      ],
      "metadata": {
        "id": "dDOJHfkOMQuZ"
      }
    },
    {
      "cell_type": "code",
      "source": [
        "test_set[:2]"
      ],
      "metadata": {
        "colab": {
          "base_uri": "https://localhost:8080/"
        },
        "id": "MCsIplUzMl4h",
        "outputId": "b092e92c-1268-4c08-854e-1c71a1b6557f"
      },
      "execution_count": 83,
      "outputs": [
        {
          "output_type": "execute_result",
          "data": {
            "text/plain": [
              "['สั่ง|คุม|เข้ม|\"|ชุมชน|แพง|เพียบ|\"| |โละ|สินค้า|พลัง|แสงอาทิตย์\\n',\n",
              " '\"กอร์ป|ศักดิ์|\"| |ตัดปัญหา|ทุจริต|โครงการ|ชุมชน|พอเพียง| |สั่งห้าม|อนุมัติ|โครงการ|พลังงานแสงอาทิตย์|ฉาว| |พร้อม|ประสาน|สำนัก|งบ|ฯ| |ส่ง|ราคา|กลาง|สินค้า|ยอดนิยม|ให้|ชุมชน| |อ้าง|ยอดเงิน|ดำเนินการ| |5.3| |พัน|ล้าน| |มี|แค่| |50| |ล้าน|ที่|มีปัญหา\\n']"
            ]
          },
          "metadata": {},
          "execution_count": 83
        }
      ]
    },
    {
      "cell_type": "code",
      "source": [
        "test_set_post = []\n",
        "\n",
        "for sentence in test_set:\n",
        "    temp = []\n",
        "    for e in sentence.split('|'):\n",
        "        temp.append([e, 0])\n",
        "    test_set_post.append(temp)"
      ],
      "metadata": {
        "id": "6nRpEqPkMfAv"
      },
      "execution_count": 59,
      "outputs": []
    },
    {
      "cell_type": "code",
      "source": [
        "def joinSeqTag(seqs, tags):\n",
        "    output = []\n",
        "    for i in range(len(seqs)):\n",
        "        tokens = [e[0] for e in seqs[i]]\n",
        "        output.append(list(zip(tokens, tags[i][0].split())))\n",
        "        \n",
        "    return output\n",
        "\n",
        "test_output = joinSeqTag(test_set_post, output_test)\n",
        "dev_output  = joinSeqTag(dev_seqs, output_dev)\n",
        "\n",
        "test_pred_output = [lst20utils.extract_entities(e, post=True)[1] for e in test_output]\n",
        "dev_pred_output = [lst20utils.extract_entities(e, post=True)[1] for e in dev_output]"
      ],
      "metadata": {
        "id": "0flOFSj6M3v-"
      },
      "execution_count": 63,
      "outputs": []
    },
    {
      "cell_type": "code",
      "source": [
        "with open(\"/content/cnn_3_dev_pred_output.json\",\"w\") as f:\n",
        "    json.dump(dev_pred_output, f)\n",
        "with open(\"/content/cnn_3_test_pred_output.json\",\"w\") as f:\n",
        "    json.dump(test_pred_output, f)"
      ],
      "metadata": {
        "id": "6yi_-BvLNrHa"
      },
      "execution_count": 64,
      "outputs": []
    },
    {
      "cell_type": "code",
      "source": [
        "print(len(dev_pred_output), len(test_pred_output))"
      ],
      "metadata": {
        "colab": {
          "base_uri": "https://localhost:8080/"
        },
        "id": "xYhIxd00O-Fm",
        "outputId": "f3be0c07-87f0-4c8f-b405-c756137ba1dc"
      },
      "execution_count": 65,
      "outputs": [
        {
          "output_type": "stream",
          "name": "stdout",
          "text": [
            "5620 5250\n"
          ]
        }
      ]
    },
    {
      "cell_type": "code",
      "source": [
        "!python3 /content/NLP-contest3/evaluate.py /content/dev_entities.json /content/cnn_3_dev_pred_output.json"
      ],
      "metadata": {
        "colab": {
          "base_uri": "https://localhost:8080/"
        },
        "id": "0jF3pZmhPxTT",
        "outputId": "4d681c5f-823b-4325-a1be-a3944cd85ca1"
      },
      "execution_count": 66,
      "outputs": [
        {
          "output_type": "stream",
          "name": "stdout",
          "text": [
            "{\n",
            "  \"0 Overall F1\": 0.508520071899341,\n",
            "  \"0 Overall P\": 0.5112031995374163,\n",
            "  \"0 Overall R\": 0.5058649628075529,\n",
            "  \"1 ORG F1\": 0.49557736580637346,\n",
            "  \"2 PER F1\": 0.5688365820767438,\n",
            "  \"3 MEA F1\": 0.48360517908189,\n",
            "  \"4 LOC F1\": 0.5161383702417137,\n",
            "  \"5 TTL F1\": 0.8392802683745044,\n",
            "  \"6 DTM F1\": 0.2836462338837367,\n",
            "  \"7 NUM F1\": 0.19269521410579343,\n",
            "  \"8 DES F1\": 0.591225626740947,\n",
            "  \"9 MISC F1\": 0,\n",
            "  \"10 TRM F1\": 0.12643678160919541,\n",
            "  \"11 BRN F1\": 0.2545454545454546\n",
            "}\n"
          ]
        }
      ]
    },
    {
      "cell_type": "code",
      "source": [
        ""
      ],
      "metadata": {
        "id": "KZKhYQGWNkhJ"
      },
      "execution_count": null,
      "outputs": []
    }
  ]
}