{
 "cells": [
  {
   "cell_type": "code",
   "execution_count": 1,
   "metadata": {},
   "outputs": [],
   "source": [
    "import glob\n",
    "from lst20utils import extract_sentences_from_files, extract_entities, retag\n",
    "files = glob.glob('LST20_Corpus/test/*.txt')"
   ]
  },
  {
   "cell_type": "code",
   "execution_count": 2,
   "metadata": {},
   "outputs": [
    {
     "name": "stdout",
     "output_type": "stream",
     "text": [
      "head: cannot open 'LST20_Corpus/test/T00126.txt' for reading: No such file or directory\n"
     ]
    }
   ],
   "source": [
    "!head LST20_Corpus/test/T00126.txt"
   ]
  },
  {
   "cell_type": "code",
   "execution_count": 3,
   "metadata": {},
   "outputs": [],
   "source": [
    "sentences= extract_sentences_from_files(files)"
   ]
  },
  {
   "cell_type": "code",
   "execution_count": 4,
   "metadata": {},
   "outputs": [
    {
     "name": "stdout",
     "output_type": "stream",
     "text": [
      "('ความ', 'O', 'FX')\n",
      "('คืบหน้า', 'O', 'VV')\n",
      "(' ', 'O', 'PU')\n",
      "('เมื่อ', 'O', 'PS')\n",
      "('วันที่', 'B_DTM', 'NN')\n",
      "(' ', 'I_DTM', 'PU')\n",
      "('21', 'I_DTM', 'NU')\n",
      "(' ', 'I_DTM', 'PU')\n",
      "('ก.ค.', 'E_DTM', 'NN')\n",
      "(' ', 'O', 'PU')\n",
      "('พ.ต.อ.', 'B_DES', 'NN')\n",
      "('ธีระเดช', 'B_PER', 'NN')\n",
      "(' ', 'I_PER', 'PU')\n",
      "('ภาณุรักษ์', 'E_PER', 'NN')\n",
      "(' ', 'O', 'PU')\n",
      "('ผกก.', 'B_DES', 'NN')\n",
      "('สภ.', 'B_ORG', 'NN')\n",
      "('ราชาเทวะ', 'E_ORG', 'NN')\n",
      "(' ', 'O', 'PU')\n",
      "('จ.', 'B_LOC', 'NN')\n",
      "('สมุทรปราการ', 'E_LOC', 'NN')\n",
      "(' ', 'O', 'PU')\n",
      "('เปิดเผย', 'O', 'VV')\n",
      "('ว่า', 'O', 'CC')\n",
      "('ได้', 'O', 'AX')\n",
      "('สอบ', 'O', 'VV')\n",
      "('ข้อเท็จจริง', 'O', 'NN')\n",
      "('แล้ว', 'O', 'AX')\n",
      "(' ', 'O', 'PU')\n",
      "('ได้', 'O', 'VV')\n",
      "('ความ', 'O', 'FX')\n",
      "('ว่า', 'O', 'CC')\n",
      "(' ', 'O', 'PU')\n",
      "('เมื่อ', 'O', 'PS')\n",
      "('วันที่', 'B_DTM', 'NN')\n",
      "(' ', 'I_DTM', 'PU')\n",
      "('25', 'I_DTM', 'NU')\n",
      "(' ', 'I_DTM', 'PU')\n",
      "('เม.ย.', 'I_DTM', 'NN')\n",
      "(' ', 'I_DTM', 'PU')\n",
      "('2552', 'E_DTM', 'NU')\n",
      "(' ', 'O', 'PU')\n",
      "('พนักงาน', 'O', 'NN')\n",
      "('ของ', 'O', 'PS')\n",
      "('บริษัท', 'B_ORG', 'NN')\n",
      "('คิงเพาเวอร์', 'E_ORG', 'NN')\n",
      "(' ', 'O', 'PU')\n",
      "('ได้', 'O', 'AX')\n",
      "('คุม', 'O', 'VV')\n",
      "('ตัว', 'O', 'NN')\n",
      "('นาย', 'B_TTL', 'NN')\n",
      "('โธมัส', 'B_PER', 'NN')\n",
      "(' ', 'I_PER', 'PU')\n",
      "('สตีเฟ่น', 'I_PER', 'NN')\n",
      "(' ', 'I_PER', 'PU')\n",
      "('อินแกรม', 'E_PER', 'NN')\n",
      "(' ', 'O', 'PU')\n",
      "('และ', 'O', 'CC')\n",
      "('น.ส.', 'B_TTL', 'NN')\n",
      "('ชี', 'B_PER', 'NN')\n",
      "(' ', 'I_PER', 'PU')\n",
      "('หลิง', 'E_PER', 'NN')\n",
      "('ความคืบหน้า เมื่อวันที่ 21 ก.ค. พ.ต.อ.ธีระเดช ภาณุรักษ์ ผกก.สภ.ราชาเทวะ จ.สมุทรปราการ เปิดเผยว่าได้สอบข้อเท็จจริงแล้ว ได้ความว่า เมื่อวันที่ 25 เม.ย. 2552 พนักงานของบริษัทคิงเพาเวอร์ ได้คุมตัวนายโธมัส สตีเฟ่น อินแกรม และน.ส.ชี หลิง', [('DTM', 'วันที่ 21 ก.ค.'), ('DES', 'พ.ต.อ.'), ('PER', 'ธีระเดช ภาณุรักษ์'), ('DES', 'ผกก.'), ('ORG', 'สภ.ราชาเทวะ'), ('LOC', 'จ.สมุทรปราการ'), ('DTM', 'วันที่ 25 เม.ย. 2552'), ('ORG', 'บริษัทคิงเพาเวอร์'), ('TTL', 'นาย'), ('PER', 'โธมัส สตีเฟ่น อินแกรม'), ('TTL', 'น.ส.'), ('PER', 'ชี หลิง')])\n"
     ]
    }
   ],
   "source": [
    "idx = 11\n",
    "for s in sentences[idx]:\n",
    "    print(s)\n",
    "print (extract_entities(sentences[idx]))"
   ]
  },
  {
   "cell_type": "code",
   "execution_count": 5,
   "metadata": {},
   "outputs": [],
   "source": [
    "def tokenize_and_write(sentences, file_name):\n",
    "    train_data = open(file_name, encoding='utf8', mode='w')\n",
    "    for s_ in sentences:\n",
    "\n",
    "        pos = [e[2] for e in s_]\n",
    "        text, entities = extract_entities(s_)\n",
    "        tokens = [e[0] for e in s_]\n",
    "\n",
    "        results = retag(entities, tokens, pos)\n",
    "        \n",
    "        for tok, tag, pos_tag in results:\n",
    "            train_data.write('{}\\t{}\\t{}\\n'.format(tok,tag if '_MISC' not in tag and '_None' not in tag else 'O', pos_tag))\n",
    "        train_data.write('\\n')\n",
    "    train_data.close()                "
   ]
  },
  {
   "cell_type": "code",
   "execution_count": 6,
   "metadata": {},
   "outputs": [],
   "source": [
    "train_files = glob.glob('LST20_Corpus/test/*.txt')\n",
    "train_sentences = extract_sentences_from_files(train_files)\n",
    "tokenize_and_write(train_sentences, 'data/newly_tokenized/test_auto_tok.tsv')"
   ]
  },
  {
   "cell_type": "code",
   "execution_count": 4,
   "metadata": {},
   "outputs": [],
   "source": [
    "dev_files = glob.glob('LST20_Corpus/eval/*.txt')\n",
    "dev_sentences = extract_sentences_from_files(dev_files)\n",
    "tokenize_and_write(dev_sentences, 'data/newly_tokenized/dev_auto_tok.tsv')"
   ]
  },
  {
   "cell_type": "code",
   "execution_count": 20,
   "metadata": {},
   "outputs": [
    {
     "name": "stdout",
     "output_type": "stream",
     "text": [
      " 2591175 train_auto_tok.tsv\r\n"
     ]
    }
   ],
   "source": [
    "!wc -l train_auto_tok.tsv"
   ]
  },
  {
   "cell_type": "code",
   "execution_count": 7,
   "metadata": {},
   "outputs": [
    {
     "name": "stdout",
     "output_type": "stream",
     "text": [
      "ธรรมนูญ\tB_PER\r\n",
      "แชมป์\tO\r\n",
      "สิงห์\tO\r\n",
      "คลาสสิก\tO\r\n",
      "กวาด\tO\r\n",
      "รางวัล\tO\r\n",
      "แสน\tO\r\n",
      "สี่\tO\r\n",
      "หมื่น\tO\r\n",
      "บาท\tO\r\n",
      "\r\n",
      "ธรรมนูญ\tB_PER\r\n",
      " \tI_PER\r\n",
      "ศรี\tI_PER\r\n",
      "โรจน์\tI_PER\r\n",
      " \tO\r\n",
      "เก็บ\tO\r\n",
      "เพิ่ม\tO\r\n",
      " \tO\r\n",
      "4\tB_NUM\r\n",
      " \tO\r\n",
      "อันเดอร์\tO\r\n",
      "พาร์\tO\r\n",
      " \tO\r\n",
      "68\tB_NUM\r\n",
      " \tO\r\n",
      "เข้า\tO\r\n",
      "ป้าย\tO\r\n",
      "รับ\tO\r\n",
      "แชมป์\tO\r\n",
      "ใน\tO\r\n",
      "การ\tO\r\n",
      "เล่น\tO\r\n",
      "อาชีพ\tO\r\n",
      " \tO\r\n",
      "19\tB_MEA\r\n",
      " \tI_MEA\r\n",
      "ปี\tI_MEA\r\n",
      "เป็น\tO\r\n",
      "ครั้ง\tO\r\n",
      "ที่\tO\r\n",
      " \tO\r\n",
      "8\tO\r\n",
      " \tO\r\n",
      "ใน\tO\r\n",
      "ชีวิต\tO\r\n",
      "ด้วย\tO\r\n",
      "สกอร์\tO\r\n",
      " \tO\r\n",
      "18\tB_NUM\r\n",
      " \tO\r\n",
      "อันเดอร์\tO\r\n",
      "พาร์\tO\r\n",
      " \tO\r\n",
      "270\tO\r\n",
      "\r\n",
      "ส่วน\tO\r\n",
      "สัต\tB_PER\r\n",
      "ยา\tI_PER\r\n",
      " \tI_PER\r\n",
      "ทรัพย์\tI_PER\r\n",
      "อัประไมย\tI_PER\r\n",
      " \tO\r\n",
      "เข้าที่\tO\r\n",
      " \tO\r\n",
      "3\tO\r\n",
      " \tO\r\n",
      "ร่วมใน\tO\r\n",
      "รอบ\tO\r\n",
      "สุดท้าย\tO\r\n"
     ]
    }
   ],
   "source": [
    "!head -n 70 train_auto_tok.tsv"
   ]
  },
  {
   "cell_type": "code",
   "execution_count": 7,
   "metadata": {},
   "outputs": [],
   "source": [
    "import json\n",
    "def write_entity_file(sentences, file_name):\n",
    "    solution = []\n",
    "    for s in sentences:\n",
    "        _, entities = extract_entities(s)\n",
    "        solution.append(entities)\n",
    "    with open(file_name, mode='w', encoding='utf8') as f:\n",
    "        json.dump(solution, f, indent=4)\n",
    "    return solution"
   ]
  },
  {
   "cell_type": "code",
   "execution_count": 8,
   "metadata": {},
   "outputs": [],
   "source": [
    "t_entities = write_entity_file(train_sentences, 'data/newly_tokenized/test_entities.json')"
   ]
  },
  {
   "cell_type": "code",
   "execution_count": 6,
   "metadata": {},
   "outputs": [],
   "source": [
    "t_entities = write_entity_file(train_sentences, 'data/newly_tokenized/train_entities.json')\n",
    "d_entities = write_entity_file(dev_sentences, 'data/newly_tokenized/dev_entities.json')\n"
   ]
  },
  {
   "cell_type": "code",
   "execution_count": 23,
   "metadata": {},
   "outputs": [
    {
     "name": "stdout",
     "output_type": "stream",
     "text": [
      " 1086808 train_entities.json\r\n"
     ]
    }
   ],
   "source": [
    "!wc -l train_entities.json"
   ]
  },
  {
   "cell_type": "code",
   "execution_count": 24,
   "metadata": {},
   "outputs": [
    {
     "name": "stdout",
     "output_type": "stream",
     "text": [
      "[\r\n",
      "    [\r\n",
      "        [\r\n",
      "            \"PER\",\r\n",
      "            \"\\u0e18\\u0e23\\u0e23\\u0e21\\u0e19\\u0e39\\u0e0d\"\r\n",
      "        ]\r\n",
      "    ],\r\n",
      "    [\r\n",
      "        [\r\n",
      "            \"PER\",\r\n"
     ]
    }
   ],
   "source": [
    "!head -n 10 train_entities.json"
   ]
  },
  {
   "cell_type": "code",
   "execution_count": 7,
   "metadata": {},
   "outputs": [
    {
     "data": {
      "text/plain": [
       "[[('DES', 'รมว.'), ('ORG', 'พม.')],\n",
       " [('LOC', 'ประเทศไทย'), ('DTM', 'พ.ศ. 2551'), ('DTM', 'วันที่ 25 มิ.ย.')],\n",
       " [('TTL', 'นาย'),\n",
       "  ('PER', 'อิสสระ'),\n",
       "  ('PER', 'สมชัย'),\n",
       "  ('DES', 'รมว.'),\n",
       "  ('ORG', 'การพัฒนาสังคมและความมั่นคงของมนุษย์'),\n",
       "  ('ORG', 'พม.'),\n",
       "  ('LOC', 'ประเทศไทย'),\n",
       "  ('LOC', 'ไทย'),\n",
       "  ('LOC', 'ไทย'),\n",
       "  ('LOC', 'ไทย')]]"
      ]
     },
     "execution_count": 7,
     "metadata": {},
     "output_type": "execute_result"
    }
   ],
   "source": [
    "t_entities[0:3]"
   ]
  },
  {
   "cell_type": "code",
   "execution_count": null,
   "metadata": {},
   "outputs": [],
   "source": []
  }
 ],
 "metadata": {
  "kernelspec": {
   "display_name": "Python 3",
   "language": "python",
   "name": "python3"
  },
  "language_info": {
   "codemirror_mode": {
    "name": "ipython",
    "version": 3
   },
   "file_extension": ".py",
   "mimetype": "text/x-python",
   "name": "python",
   "nbconvert_exporter": "python",
   "pygments_lexer": "ipython3",
   "version": "3.8.10"
  }
 },
 "nbformat": 4,
 "nbformat_minor": 4
}
