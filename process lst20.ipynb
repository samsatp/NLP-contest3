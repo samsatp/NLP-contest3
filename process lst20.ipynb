{
 "cells": [
  {
   "cell_type": "code",
   "execution_count": 1,
   "metadata": {},
   "outputs": [],
   "source": [
    "import glob\n",
    "from lst20utils import extract_sentences_from_files, extract_entities, retag\n",
    "files = glob.glob('LST20_Corpus/train/*.txt')"
   ]
  },
  {
   "cell_type": "code",
   "execution_count": 4,
   "metadata": {},
   "outputs": [
    {
     "name": "stdout",
     "output_type": "stream",
     "text": [
      "สุรยุทธ์\tNN\tB_PER\tB_CLS\n",
      "ยัน\tVV\tO\tI_CLS\n",
      "ปฏิเสธ\tVV\tO\tI_CLS\n",
      "ลงนาม\tVV\tO\tI_CLS\n",
      "_\tPU\tO\tI_CLS\n",
      "MOU\tNN\tO\tI_CLS\n",
      "_\tPU\tO\tI_CLS\n",
      "กับ\tPS\tO\tI_CLS\n",
      "อียู\tNN\tB_ORG\tI_CLS\n",
      "ไม่\tNG\tO\tI_CLS\n"
     ]
    }
   ],
   "source": [
    "!head LST20_Corpus/train/T00126.txt"
   ]
  },
  {
   "cell_type": "code",
   "execution_count": 3,
   "metadata": {},
   "outputs": [],
   "source": [
    "sentences= extract_sentences_from_files(files)"
   ]
  },
  {
   "cell_type": "code",
   "execution_count": 4,
   "metadata": {},
   "outputs": [
    {
     "name": "stdout",
     "output_type": "stream",
     "text": [
      "('ส่วน', 'O', 'CC')\n",
      "('อีก', 'O', 'NU')\n",
      "(' ', 'O', 'PU')\n",
      "('2', 'O', 'NU')\n",
      "(' ', 'O', 'PU')\n",
      "('ตุง', 'B_MEA', 'CL')\n",
      "('ได้', 'O', 'AX')\n",
      "('จาก', 'O', 'PS')\n",
      "('การ', 'O', 'FX')\n",
      "('ทำ', 'O', 'VV')\n",
      "('เข้า', 'O', 'AV')\n",
      "('ประตู', 'O', 'NN')\n",
      "('ตัวเอง', 'O', 'PR')\n",
      "('ของ', 'O', 'PS')\n",
      "('ทีม', 'O', 'NN')\n",
      "('เยือน', 'O', 'VV')\n",
      "('ส่วนอีก 2 ตุงได้จากการทำเข้าประตูตัวเองของทีมเยือน', [('MEA', 'ตุง')])\n"
     ]
    }
   ],
   "source": [
    "idx = 11\n",
    "for s in sentences[idx]:\n",
    "    print(s)\n",
    "print (extract_entities(sentences[idx]))"
   ]
  },
  {
   "cell_type": "code",
   "execution_count": 2,
   "metadata": {},
   "outputs": [],
   "source": [
    "def tokenize_and_write(sentences, file_name):\n",
    "    train_data = open(file_name, encoding='utf8', mode='w')\n",
    "    for s_ in sentences:\n",
    "\n",
    "        pos = [e[2] for e in s_]\n",
    "        text, entities = extract_entities(s_)\n",
    "        tokens = [e[0] for e in s_]\n",
    "\n",
    "        results = retag(entities, tokens, pos)\n",
    "        \n",
    "        for tok, tag, pos_tag in results:\n",
    "            train_data.write('{}\\t{}\\t{}\\n'.format(tok,tag if '_MISC' not in tag and '_None' not in tag else 'O', pos_tag))\n",
    "        train_data.write('\\n')\n",
    "    train_data.close()                "
   ]
  },
  {
   "cell_type": "code",
   "execution_count": 3,
   "metadata": {},
   "outputs": [],
   "source": [
    "train_files = glob.glob('LST20_Corpus/train/*.txt')\n",
    "train_sentences = extract_sentences_from_files(train_files)\n",
    "tokenize_and_write(train_sentences, 'data/newly_tokenized/train_auto_tok.tsv')"
   ]
  },
  {
   "cell_type": "code",
   "execution_count": 4,
   "metadata": {},
   "outputs": [],
   "source": [
    "dev_files = glob.glob('LST20_Corpus/eval/*.txt')\n",
    "dev_sentences = extract_sentences_from_files(dev_files)\n",
    "tokenize_and_write(dev_sentences, 'data/newly_tokenized/dev_auto_tok.tsv')"
   ]
  },
  {
   "cell_type": "code",
   "execution_count": 20,
   "metadata": {},
   "outputs": [
    {
     "name": "stdout",
     "output_type": "stream",
     "text": [
      " 2591175 train_auto_tok.tsv\r\n"
     ]
    }
   ],
   "source": [
    "!wc -l train_auto_tok.tsv"
   ]
  },
  {
   "cell_type": "code",
   "execution_count": 7,
   "metadata": {},
   "outputs": [
    {
     "name": "stdout",
     "output_type": "stream",
     "text": [
      "ธรรมนูญ\tB_PER\r\n",
      "แชมป์\tO\r\n",
      "สิงห์\tO\r\n",
      "คลาสสิก\tO\r\n",
      "กวาด\tO\r\n",
      "รางวัล\tO\r\n",
      "แสน\tO\r\n",
      "สี่\tO\r\n",
      "หมื่น\tO\r\n",
      "บาท\tO\r\n",
      "\r\n",
      "ธรรมนูญ\tB_PER\r\n",
      " \tI_PER\r\n",
      "ศรี\tI_PER\r\n",
      "โรจน์\tI_PER\r\n",
      " \tO\r\n",
      "เก็บ\tO\r\n",
      "เพิ่ม\tO\r\n",
      " \tO\r\n",
      "4\tB_NUM\r\n",
      " \tO\r\n",
      "อันเดอร์\tO\r\n",
      "พาร์\tO\r\n",
      " \tO\r\n",
      "68\tB_NUM\r\n",
      " \tO\r\n",
      "เข้า\tO\r\n",
      "ป้าย\tO\r\n",
      "รับ\tO\r\n",
      "แชมป์\tO\r\n",
      "ใน\tO\r\n",
      "การ\tO\r\n",
      "เล่น\tO\r\n",
      "อาชีพ\tO\r\n",
      " \tO\r\n",
      "19\tB_MEA\r\n",
      " \tI_MEA\r\n",
      "ปี\tI_MEA\r\n",
      "เป็น\tO\r\n",
      "ครั้ง\tO\r\n",
      "ที่\tO\r\n",
      " \tO\r\n",
      "8\tO\r\n",
      " \tO\r\n",
      "ใน\tO\r\n",
      "ชีวิต\tO\r\n",
      "ด้วย\tO\r\n",
      "สกอร์\tO\r\n",
      " \tO\r\n",
      "18\tB_NUM\r\n",
      " \tO\r\n",
      "อันเดอร์\tO\r\n",
      "พาร์\tO\r\n",
      " \tO\r\n",
      "270\tO\r\n",
      "\r\n",
      "ส่วน\tO\r\n",
      "สัต\tB_PER\r\n",
      "ยา\tI_PER\r\n",
      " \tI_PER\r\n",
      "ทรัพย์\tI_PER\r\n",
      "อัประไมย\tI_PER\r\n",
      " \tO\r\n",
      "เข้าที่\tO\r\n",
      " \tO\r\n",
      "3\tO\r\n",
      " \tO\r\n",
      "ร่วมใน\tO\r\n",
      "รอบ\tO\r\n",
      "สุดท้าย\tO\r\n"
     ]
    }
   ],
   "source": [
    "!head -n 70 train_auto_tok.tsv"
   ]
  },
  {
   "cell_type": "code",
   "execution_count": 5,
   "metadata": {},
   "outputs": [],
   "source": [
    "import json\n",
    "def write_entity_file(sentences, file_name):\n",
    "    solution = []\n",
    "    for s in sentences:\n",
    "        _, entities = extract_entities(s)\n",
    "        solution.append(entities)\n",
    "    with open(file_name, mode='w', encoding='utf8') as f:\n",
    "        json.dump(solution, f, indent=4)\n",
    "    return solution"
   ]
  },
  {
   "cell_type": "code",
   "execution_count": 6,
   "metadata": {},
   "outputs": [],
   "source": [
    "t_entities = write_entity_file(train_sentences, 'data/newly_tokenized/train_entities.json')\n",
    "d_entities = write_entity_file(dev_sentences, 'data/newly_tokenized/dev_entities.json')\n"
   ]
  },
  {
   "cell_type": "code",
   "execution_count": 23,
   "metadata": {},
   "outputs": [
    {
     "name": "stdout",
     "output_type": "stream",
     "text": [
      " 1086808 train_entities.json\r\n"
     ]
    }
   ],
   "source": [
    "!wc -l train_entities.json"
   ]
  },
  {
   "cell_type": "code",
   "execution_count": 24,
   "metadata": {},
   "outputs": [
    {
     "name": "stdout",
     "output_type": "stream",
     "text": [
      "[\r\n",
      "    [\r\n",
      "        [\r\n",
      "            \"PER\",\r\n",
      "            \"\\u0e18\\u0e23\\u0e23\\u0e21\\u0e19\\u0e39\\u0e0d\"\r\n",
      "        ]\r\n",
      "    ],\r\n",
      "    [\r\n",
      "        [\r\n",
      "            \"PER\",\r\n"
     ]
    }
   ],
   "source": [
    "!head -n 10 train_entities.json"
   ]
  },
  {
   "cell_type": "code",
   "execution_count": 7,
   "metadata": {},
   "outputs": [
    {
     "data": {
      "text/plain": [
       "[[('DES', 'รมว.'), ('ORG', 'พม.')],\n",
       " [('LOC', 'ประเทศไทย'), ('DTM', 'พ.ศ. 2551'), ('DTM', 'วันที่ 25 มิ.ย.')],\n",
       " [('TTL', 'นาย'),\n",
       "  ('PER', 'อิสสระ'),\n",
       "  ('PER', 'สมชัย'),\n",
       "  ('DES', 'รมว.'),\n",
       "  ('ORG', 'การพัฒนาสังคมและความมั่นคงของมนุษย์'),\n",
       "  ('ORG', 'พม.'),\n",
       "  ('LOC', 'ประเทศไทย'),\n",
       "  ('LOC', 'ไทย'),\n",
       "  ('LOC', 'ไทย'),\n",
       "  ('LOC', 'ไทย')]]"
      ]
     },
     "execution_count": 7,
     "metadata": {},
     "output_type": "execute_result"
    }
   ],
   "source": [
    "t_entities[0:3]"
   ]
  },
  {
   "cell_type": "code",
   "execution_count": null,
   "metadata": {},
   "outputs": [],
   "source": []
  }
 ],
 "metadata": {
  "kernelspec": {
   "display_name": "Python 3",
   "language": "python",
   "name": "python3"
  },
  "language_info": {
   "codemirror_mode": {
    "name": "ipython",
    "version": 3
   },
   "file_extension": ".py",
   "mimetype": "text/x-python",
   "name": "python",
   "nbconvert_exporter": "python",
   "pygments_lexer": "ipython3",
   "version": "3.8.10"
  }
 },
 "nbformat": 4,
 "nbformat_minor": 4
}
