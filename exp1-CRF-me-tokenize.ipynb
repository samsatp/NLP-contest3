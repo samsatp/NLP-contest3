{
 "cells": [
  {
   "cell_type": "code",
   "execution_count": 1,
   "metadata": {},
   "outputs": [],
   "source": [
    "from util import preprocess\n",
    "\n",
    "train_seqs = preprocess.get_sequence(\"data/newly_tokenized/train_auto_tok.tsv\")\n",
    "dev_seqs   = preprocess.get_sequence(\"data/newly_tokenized/dev_auto_tok.tsv\")\n",
    "test_seqs   = preprocess.get_sequence(\"data/newly_tokenized/test_auto_tok.tsv\")"
   ]
  },
  {
   "cell_type": "code",
   "execution_count": 2,
   "metadata": {},
   "outputs": [
    {
     "name": "stdout",
     "output_type": "stream",
     "text": [
      "63310 5620 5250\n"
     ]
    }
   ],
   "source": [
    "\"\"\" import json\n",
    "\n",
    "with open(\"train_seqs_with_pos.json\",\"r\") as f:\n",
    "    train_seqs = json.load(f)\n",
    "with open(\"dev_seqs_with_pos.json\",\"r\") as f:\n",
    "    dev_seqs = json.load(f)\n",
    "with open(\"test_seqs_with_pos.json\",\"r\") as f:\n",
    "    test_seqs = json.load(f)\n",
    "print(len(train_seqs), len(dev_seqs), len(test_seqs)) \"\"\""
   ]
  },
  {
   "cell_type": "code",
   "execution_count": 3,
   "metadata": {},
   "outputs": [
    {
     "name": "stdout",
     "output_type": "stream",
     "text": [
      "63310 5620 5250\n"
     ]
    }
   ],
   "source": [
    "train_seqs_wordOnly = [ [e[0] for e in seq] for seq in train_seqs]\n",
    "dev_seqs_wordOnly = [ [e[0] for e in seq] for seq in dev_seqs]\n",
    "test_seqs_wordOnly = [ [e[0] for e in seq] for seq in test_seqs]\n",
    "\n",
    "print(len(train_seqs_wordOnly), len(dev_seqs_wordOnly), len(test_seqs_wordOnly))"
   ]
  },
  {
   "cell_type": "markdown",
   "metadata": {},
   "source": [
    "# 1. Create features"
   ]
  },
  {
   "cell_type": "code",
   "execution_count": 2,
   "metadata": {},
   "outputs": [],
   "source": [
    "import json\n",
    "\n",
    "with open(\"data/word_entity_pair.json\", \"r\") as f:\n",
    "    word_entity = json.load(f)\n",
    "\n",
    "from collections import defaultdict\n",
    "word_entity_dict = defaultdict(lambda: set())\n",
    "\n",
    "for e in word_entity:\n",
    "    word_entity_dict[e[1]].add(e[0])\n",
    "\n",
    "word_entity_dict = dict(word_entity_dict)\n",
    "num_in_type = {k:len(word_entity_dict[k]) for k in word_entity_dict}\n",
    "\n",
    "from util.const import mappingList\n",
    "\n",
    "toEntity = {}\n",
    "for new_entity in word_entity_dict.keys():\n",
    "    for entity in mappingList:\n",
    "        if new_entity in mappingList[entity]:\n",
    "            toEntity[new_entity] = entity\n"
   ]
  },
  {
   "cell_type": "code",
   "execution_count": 3,
   "metadata": {},
   "outputs": [],
   "source": [
    "final_entity_word = {}\n",
    "\n",
    "for e in word_entity_dict:\n",
    "    if e in toEntity:\n",
    "        for word in word_entity_dict[e]:\n",
    "            final_entity_word[ word ] = toEntity[e]"
   ]
  },
  {
   "cell_type": "code",
   "execution_count": 4,
   "metadata": {},
   "outputs": [],
   "source": [
    "def current_word(i, tokens):\n",
    "    return {'w0 word': tokens[i][0]}\n",
    "\n",
    "def current_pos(i, tokens):\n",
    "    return {'w0 pos': tokens[i][-1]}\n",
    "\n",
    "def prev_pos(i, tokens):\n",
    "    if i == 0:\n",
    "        return {}\n",
    "    if i == 1:\n",
    "        return {'w-1 pos': tokens[i-1][-1]}\n",
    "    return {'w-1 pos': tokens[i-1][-1], 'w-2 pos': tokens[i-2][-1]}\n",
    "\n",
    "import re\n",
    "def isIn_word_entity(i, tokens):\n",
    "    word = re.sub(r'\\s', '', tokens[i][0])\n",
    "    if word in final_entity_word:\n",
    "        return {\"possible-tag\" : final_entity_word[word]}\n",
    "    else:\n",
    "        return {}\n",
    "\n"
   ]
  },
  {
   "cell_type": "code",
   "execution_count": 5,
   "metadata": {},
   "outputs": [
    {
     "name": "stdout",
     "output_type": "stream",
     "text": [
      "{'w0 word': 'กล่าว'}\n",
      "{'w0 pos': 'VV'}\n",
      "{'w-1 pos': 'PU', 'w-2 pos': 'NN'}\n",
      "{'possible-tag': 'LOC'}\n"
     ]
    },
    {
     "data": {
      "text/plain": [
       "['กล่าว', 'O', 'VV']"
      ]
     },
     "execution_count": 5,
     "metadata": {},
     "output_type": "execute_result"
    }
   ],
   "source": [
    "position = 3\n",
    "n_sentence = 2971\n",
    "print(current_word(position, train_seqs[n_sentence]))\n",
    "print(current_pos(position, train_seqs[n_sentence]))\n",
    "print(prev_pos(position, train_seqs[n_sentence]))\n",
    "print(isIn_word_entity(position, train_seqs[n_sentence]))\n",
    "train_seqs[n_sentence][position]"
   ]
  },
  {
   "cell_type": "code",
   "execution_count": 6,
   "metadata": {},
   "outputs": [],
   "source": [
    "# Featurize text into feature sequences\n",
    "def featurize(feature_function_list, tokens):\n",
    "    feature_dict_seq = []\n",
    "    for i in range(len(tokens)): # ทุก token\n",
    "        feature_dict = {}\n",
    "        for feature_fn in feature_function_list: # ทุก feature function\n",
    "            feature_dict.update(feature_fn(i, tokens))\n",
    "        feature_dict_seq.append(feature_dict)\n",
    "    return feature_dict_seq\n",
    "    \n",
    "def labelize(tokens):\n",
    "    return [e[1] for e in tokens]\n",
    "    \n",
    "feature_function_list = [current_word, current_pos, prev_pos, isIn_word_entity]"
   ]
  },
  {
   "cell_type": "code",
   "execution_count": 7,
   "metadata": {},
   "outputs": [],
   "source": [
    "# X_train, X_dev, X_test\n",
    "feature_seq_list = [featurize(feature_function_list, e) for e in train_seqs]\n",
    "dev_feature_seq_list = [featurize(feature_function_list, e) for e in dev_seqs]\n",
    "test_feature_seq_list = [featurize(feature_function_list, e) for e in test_seqs]\n",
    "\n",
    "# Y_train, Y_dev\n",
    "label_seq_list = [labelize(e) for e in train_seqs]\n",
    "dev_label_seq_list = [labelize(e) for e in dev_seqs]"
   ]
  },
  {
   "cell_type": "markdown",
   "metadata": {},
   "source": [
    "# Train CRF"
   ]
  },
  {
   "cell_type": "code",
   "execution_count": 11,
   "metadata": {},
   "outputs": [
    {
     "data": {
      "text/plain": [
       "<sklearn_crfsuite.estimator.CRF at 0x26270196a70>"
      ]
     },
     "execution_count": 11,
     "metadata": {},
     "output_type": "execute_result"
    }
   ],
   "source": [
    "import sklearn_crfsuite\n",
    "crf = sklearn_crfsuite.CRF()\n",
    "crf.fit(feature_seq_list, label_seq_list)"
   ]
  },
  {
   "cell_type": "markdown",
   "metadata": {},
   "source": [
    "### save model"
   ]
  },
  {
   "cell_type": "code",
   "execution_count": 12,
   "metadata": {},
   "outputs": [
    {
     "data": {
      "text/plain": [
       "['models/crf_4_feat.crfsuite']"
      ]
     },
     "execution_count": 12,
     "metadata": {},
     "output_type": "execute_result"
    }
   ],
   "source": [
    "import joblib\n",
    "filename = 'models/crf_4_feat.crfsuite'\n",
    "joblib.dump(crf, filename)"
   ]
  },
  {
   "cell_type": "markdown",
   "metadata": {},
   "source": [
    "# Load trained model"
   ]
  },
  {
   "cell_type": "code",
   "execution_count": 17,
   "metadata": {},
   "outputs": [
    {
     "data": {
      "text/plain": [
       "(5620, 5250)"
      ]
     },
     "execution_count": 17,
     "metadata": {},
     "output_type": "execute_result"
    }
   ],
   "source": [
    "import joblib\n",
    "filename = 'models/crf_4_feat.crfsuite'\n",
    "loaded_model = joblib.load(filename)\n",
    "\n",
    "# Inference\n",
    "#train_pred = loaded_model.predict(feature_seq_list)\n",
    "dev_pred = loaded_model.predict(dev_feature_seq_list)\n",
    "test_pred = loaded_model.predict(test_feature_seq_list)\n",
    "\n",
    "len(dev_pred), len(test_pred)"
   ]
  },
  {
   "cell_type": "code",
   "execution_count": null,
   "metadata": {},
   "outputs": [],
   "source": [
    "#import sklearn_crfsuite.metrics\n",
    "#print(sklearn_crfsuite.metrics.flat_classification_report(label_seq_list, train_pred))"
   ]
  },
  {
   "cell_type": "code",
   "execution_count": 15,
   "metadata": {},
   "outputs": [],
   "source": [
    "def joinSeqTag(seqs, tags):\n",
    "    output = []\n",
    "    for i in range(len(seqs)):\n",
    "        temp = []\n",
    "        for token, tag in zip(seqs[i], tags[i]):\n",
    "            if tag != \"O\":\n",
    "                temp.append( (token[0],tag) )\n",
    "\n",
    "        output.append(temp)\n",
    "        \n",
    "    return output\n",
    "\n",
    "test_output = joinSeqTag(test_seqs, test_pred)\n",
    "dev_output  = joinSeqTag(dev_seqs, dev_pred)\n",
    "\n",
    "from lst20utils import extract_entities\n",
    "test_pred_output = [extract_entities(e, post=True)[1] for e in test_output]\n",
    "dev_pred_output = [extract_entities(e, post=True)[1] for e in dev_output]"
   ]
  },
  {
   "cell_type": "markdown",
   "metadata": {},
   "source": [
    "# Save result"
   ]
  },
  {
   "cell_type": "code",
   "execution_count": 16,
   "metadata": {},
   "outputs": [],
   "source": [
    "import json\n",
    "json.dump(dev_pred_output, open('result/predicted_dev_entities_4feat.json', encoding='utf8', mode='w'))\n",
    "json.dump(test_pred_output, open('result/predicted_test_entities_4feat.json', encoding='utf8', mode='w'))\n"
   ]
  },
  {
   "cell_type": "markdown",
   "metadata": {},
   "source": [
    "| file      | Description |\n",
    "| ----------- | ----------- |\n",
    "| **model_1**: `models/crf_3_feat.crfsuite`   | CRF model, use 3 features, pos tag by corpus        |\n",
    "| **model_2**: `models/crf_1_feat_me_tok.crfsuite`      | CRF model, use 1 feature (currect token), pos tag by Pythai       |\n",
    "| **model_3**: `models/crf_3_feat_me_tok.crfsuite`      | CRF model, use 3 features, pos tag by Pythai       |\n",
    "| `result/test_pred_output_re.json` | output on *test set* by *model_1* |\n",
    "| `result/predicted_dev_entities.json` | output on *dev set* by *model_1* |\n",
    "| `result/predicted_train_entities.json` | output on *train set* by *model_1* |\n",
    "| `result/predicted_test_entities_me_tok_1feat.json` | output on *test set* by *model_2* |\n",
    "| `result/predicted_dev_entities_me_tok_1feat.json` | output on *dev set* by *model_2* |\n",
    "| `result/predicted_test_entities_me_tok_3feat.json` | output on *test set* by *model_3* |\n",
    "| `result/predicted_dev_entities_me_tok_3feat.json` | output on *dev set* by *model_3* |"
   ]
  },
  {
   "cell_type": "markdown",
   "metadata": {},
   "source": [
    "# Make prediction on Test set\n",
    "Inferencing test set needs a bit workaround bc. we need POS and test data from corpus, and mapping from a given test data."
   ]
  },
  {
   "cell_type": "markdown",
   "metadata": {},
   "source": [
    "to evaluate: `python evaluate.py data/newly_tokenized/dev_entities.json result/predicted_dev_entities_4feat.json`"
   ]
  },
  {
   "cell_type": "code",
   "execution_count": 19,
   "metadata": {},
   "outputs": [],
   "source": [
    "# read test file\n",
    "with open(\"data/raw/test_set.txt\", \"r\", encoding=\"utf8\") as f:\n",
    "    test_file = f.readlines() \n",
    "\n",
    "import re\n",
    "# tokenize\n",
    "test_seqs_given = [e.strip(\"\\n\") for e in test_file]\n",
    "test_seqs_given = [re.sub(\"\\|\",\"\",e) for e in test_seqs_given]"
   ]
  },
  {
   "cell_type": "code",
   "execution_count": 20,
   "metadata": {},
   "outputs": [],
   "source": [
    "test_sentences = {}\n",
    "\n",
    "for i, seq in enumerate(test_seqs):\n",
    "    tokens = [e[0] for e in seq]\n",
    "    sentence = ''.join(tokens)\n",
    "    test_sentences[sentence] = test_pred_output[i]\n"
   ]
  },
  {
   "cell_type": "code",
   "execution_count": 21,
   "metadata": {},
   "outputs": [],
   "source": [
    "test_pred_output_re = []\n",
    "for test_sentence in test_seqs_given:\n",
    "    test_pred_output_re.append( test_sentences[test_sentence] )"
   ]
  },
  {
   "cell_type": "code",
   "execution_count": 22,
   "metadata": {},
   "outputs": [],
   "source": [
    "import json\n",
    "json.dump(test_pred_output_re, open('result/test_pred_output_4feat.json', encoding='utf8', mode='w'))"
   ]
  },
  {
   "cell_type": "code",
   "execution_count": null,
   "metadata": {},
   "outputs": [],
   "source": []
  }
 ],
 "metadata": {
  "interpreter": {
   "hash": "21fd0c4c56f232978d37f42fade3398e333d4f11a8a30408db82c91c0032412b"
  },
  "kernelspec": {
   "display_name": "Python 3.8.10 ('venv': venv)",
   "language": "python",
   "name": "python3"
  },
  "language_info": {
   "codemirror_mode": {
    "name": "ipython",
    "version": 3
   },
   "file_extension": ".py",
   "mimetype": "text/x-python",
   "name": "python",
   "nbconvert_exporter": "python",
   "pygments_lexer": "ipython3",
   "version": "3.10.0"
  },
  "orig_nbformat": 4
 },
 "nbformat": 4,
 "nbformat_minor": 2
}
