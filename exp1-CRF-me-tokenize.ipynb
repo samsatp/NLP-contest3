{
 "cells": [
  {
   "cell_type": "code",
   "execution_count": 1,
   "metadata": {},
   "outputs": [],
   "source": [
    "from util import preprocess\n",
    "\n",
    "train_seqs = preprocess.get_sequence(\"data/newly_tokenized/train_auto_tok.tsv\")\n",
    "dev_seqs   = preprocess.get_sequence(\"data/newly_tokenized/dev_auto_tok.tsv\")\n",
    "test_seqs   = preprocess.get_sequence(\"data/newly_tokenized/test_auto_tok.tsv\")"
   ]
  },
  {
   "cell_type": "code",
   "execution_count": 2,
   "metadata": {},
   "outputs": [
    {
     "name": "stdout",
     "output_type": "stream",
     "text": [
      "63310 5620 5250\n"
     ]
    }
   ],
   "source": [
    "train_seqs_wordOnly = [ [e[0] for e in seq] for seq in train_seqs]\n",
    "dev_seqs_wordOnly = [ [e[0] for e in seq] for seq in dev_seqs]\n",
    "test_seqs_wordOnly = [ [e[0] for e in seq] for seq in test_seqs]\n",
    "\n",
    "print(len(train_seqs_wordOnly), len(dev_seqs_wordOnly), len(test_seqs_wordOnly))"
   ]
  },
  {
   "cell_type": "code",
   "execution_count": 3,
   "metadata": {},
   "outputs": [
    {
     "name": "stdout",
     "output_type": "stream",
     "text": [
      "63310 5620 5250\n"
     ]
    }
   ],
   "source": [
    "from pythainlp.tag import pos_tag\n",
    "\n",
    "train_seqs_pthai_tags = [ pos_tag(e, corpus=\"lst20\") for e in train_seqs_wordOnly]\n",
    "dev_seqs_pthai_tags = [ pos_tag(e, corpus=\"lst20\") for e in dev_seqs_wordOnly]\n",
    "test_seqs_pthai_tags = [ pos_tag(e, corpus=\"lst20\") for e in test_seqs_wordOnly]\n",
    "\n",
    "print(len(train_seqs_pthai_tags), len(dev_seqs_pthai_tags), len(test_seqs_pthai_tags))"
   ]
  },
  {
   "cell_type": "markdown",
   "metadata": {},
   "source": [
    "# 1. Create features"
   ]
  },
  {
   "cell_type": "code",
   "execution_count": 6,
   "metadata": {},
   "outputs": [],
   "source": [
    "def current_word(i, tokens):\n",
    "    return {'w0 word': tokens[i][0]}\n",
    "\n",
    "def current_pos(i, tokens):\n",
    "    return {'w0 pos': tokens[i][1]}\n",
    "\n",
    "def prev_pos(i, tokens):\n",
    "    if i == 0:\n",
    "        return {}\n",
    "    if i == 1:\n",
    "        return {'w-1 pos': tokens[i-1][1]}\n",
    "    return {'w-1 pos': tokens[i-1][1], 'w-2 pos': tokens[i-2][1]}"
   ]
  },
  {
   "cell_type": "code",
   "execution_count": 7,
   "metadata": {},
   "outputs": [
    {
     "name": "stdout",
     "output_type": "stream",
     "text": [
      "{'w0 word': 'ลั่น'}\n",
      "{'w0 pos': 'VV'}\n",
      "{'w-1 pos': 'NN', 'w-2 pos': 'NN'}\n"
     ]
    }
   ],
   "source": [
    "print(current_word(2, train_seqs_pthai_tags[0]))\n",
    "print(current_pos(2, train_seqs_pthai_tags[0]))\n",
    "print(prev_pos(2, train_seqs_pthai_tags[0]))"
   ]
  },
  {
   "cell_type": "code",
   "execution_count": 8,
   "metadata": {},
   "outputs": [
    {
     "name": "stdout",
     "output_type": "stream",
     "text": [
      "{'w0 pos': 'VV', 'w0 word': 'เร่ง', 'w-1 pos': 'NN', 'w-2 pos': 'NN'}\n"
     ]
    }
   ],
   "source": [
    "features = {}\n",
    "features.update(current_pos(3, train_seqs_pthai_tags[0]))\n",
    "features.update(current_word(3, train_seqs_pthai_tags[0]))\n",
    "features.update(prev_pos(2, train_seqs_pthai_tags[0]))\n",
    "print(features)"
   ]
  },
  {
   "cell_type": "code",
   "execution_count": 9,
   "metadata": {},
   "outputs": [],
   "source": [
    "# Featurize text into feature sequences\n",
    "def featurize(feature_function_list, tokens):\n",
    "    feature_dict_seq = []\n",
    "    for i in range(len(tokens)): # ทุก token\n",
    "        feature_dict = {}\n",
    "        for feature_fn in feature_function_list: # ทุก feature function\n",
    "            feature_dict.update(feature_fn(i, tokens))\n",
    "        feature_dict_seq.append(feature_dict)\n",
    "    return feature_dict_seq\n",
    "    \n",
    "def labelize(tokens):\n",
    "    return [e[1] for e in tokens]\n",
    "    \n",
    "feature_function_list = [current_word, current_pos, prev_pos]"
   ]
  },
  {
   "cell_type": "code",
   "execution_count": 10,
   "metadata": {},
   "outputs": [],
   "source": [
    "# X_train, X_dev, X_test\n",
    "feature_seq_list = [featurize(feature_function_list, e) for e in train_seqs_pthai_tags]\n",
    "dev_feature_seq_list = [featurize(feature_function_list, e) for e in dev_seqs_pthai_tags]\n",
    "test_feature_seq_list = [featurize(feature_function_list, e) for e in test_seqs_pthai_tags]\n",
    "\n",
    "# Y_train, Y_dev\n",
    "label_seq_list = [labelize(e) for e in train_seqs]\n",
    "dev_label_seq_list = [labelize(e) for e in dev_seqs]"
   ]
  },
  {
   "cell_type": "markdown",
   "metadata": {},
   "source": [
    "# Train CRF"
   ]
  },
  {
   "cell_type": "code",
   "execution_count": 12,
   "metadata": {},
   "outputs": [
    {
     "name": "stderr",
     "output_type": "stream",
     "text": [
      "/home/samsatp/contest3/venv/lib/python3.8/site-packages/sklearn/base.py:209: FutureWarning: From version 0.24, get_params will raise an AttributeError if a parameter cannot be retrieved as an instance attribute. Previously it would return None.\n",
      "  warnings.warn('From version 0.24, get_params will raise an '\n"
     ]
    },
    {
     "data": {
      "text/plain": [
       "CRF(keep_tempfiles=None)"
      ]
     },
     "execution_count": 12,
     "metadata": {},
     "output_type": "execute_result"
    }
   ],
   "source": [
    "import sklearn_crfsuite\n",
    "crf = sklearn_crfsuite.CRF()\n",
    "crf.fit(feature_seq_list, label_seq_list)"
   ]
  },
  {
   "cell_type": "markdown",
   "metadata": {},
   "source": [
    "### save model"
   ]
  },
  {
   "cell_type": "code",
   "execution_count": 13,
   "metadata": {},
   "outputs": [
    {
     "data": {
      "text/plain": [
       "['models/crf_3_feat_me_tok.crfsuite']"
      ]
     },
     "execution_count": 13,
     "metadata": {},
     "output_type": "execute_result"
    }
   ],
   "source": [
    "import joblib\n",
    "filename = 'models/crf_3_feat_me_tok.crfsuite'\n",
    "joblib.dump(crf, filename)"
   ]
  },
  {
   "cell_type": "markdown",
   "metadata": {},
   "source": [
    "# Load trained model"
   ]
  },
  {
   "cell_type": "code",
   "execution_count": 16,
   "metadata": {},
   "outputs": [
    {
     "data": {
      "text/plain": [
       "(5620, 5250)"
      ]
     },
     "execution_count": 16,
     "metadata": {},
     "output_type": "execute_result"
    }
   ],
   "source": [
    "import joblib\n",
    "filename = 'models/crf_3_feat_me_tok.crfsuite'\n",
    "loaded_model = joblib.load(filename)\n",
    "\n",
    "# Inference\n",
    "#train_pred = loaded_model.predict(feature_seq_list)\n",
    "dev_pred = loaded_model.predict(dev_feature_seq_list)\n",
    "test_pred = loaded_model.predict(test_feature_seq_list)\n",
    "\n",
    "len(dev_pred), len(test_pred)"
   ]
  },
  {
   "cell_type": "code",
   "execution_count": 20,
   "metadata": {},
   "outputs": [
    {
     "data": {
      "text/plain": [
       "[[{'w0 word': 'รมว.', 'w0 pos': 'NN'},\n",
       "  {'w0 word': 'พม.', 'w0 pos': 'NN', 'w-1 pos': 'NN'},\n",
       "  {'w0 word': 'ลั่น', 'w0 pos': 'VV', 'w-1 pos': 'NN', 'w-2 pos': 'NN'},\n",
       "  {'w0 word': 'เร่ง', 'w0 pos': 'VV', 'w-1 pos': 'VV', 'w-2 pos': 'NN'},\n",
       "  {'w0 word': 'ปราบปราม', 'w0 pos': 'VV', 'w-1 pos': 'VV', 'w-2 pos': 'VV'},\n",
       "  {'w0 word': '\"', 'w0 pos': 'PU', 'w-1 pos': 'VV', 'w-2 pos': 'VV'},\n",
       "  {'w0 word': 'ค้า', 'w0 pos': 'VV', 'w-1 pos': 'PU', 'w-2 pos': 'VV'},\n",
       "  {'w0 word': 'มนุษย์', 'w0 pos': 'NN', 'w-1 pos': 'VV', 'w-2 pos': 'PU'},\n",
       "  {'w0 word': '\"', 'w0 pos': 'PU', 'w-1 pos': 'NN', 'w-2 pos': 'VV'}],\n",
       " [{'w0 word': 'จาก', 'w0 pos': 'PS'},\n",
       "  {'w0 word': 'การที่', 'w0 pos': 'CC', 'w-1 pos': 'PS'},\n",
       "  {'w0 word': 'สถานการณ์', 'w0 pos': 'NN', 'w-1 pos': 'CC', 'w-2 pos': 'PS'},\n",
       "  {'w0 word': 'ด้าน', 'w0 pos': 'NN', 'w-1 pos': 'NN', 'w-2 pos': 'CC'},\n",
       "  {'w0 word': 'การ', 'w0 pos': 'FX', 'w-1 pos': 'NN', 'w-2 pos': 'NN'},\n",
       "  {'w0 word': 'ค้า', 'w0 pos': 'VV', 'w-1 pos': 'FX', 'w-2 pos': 'NN'},\n",
       "  {'w0 word': 'มนุษย์', 'w0 pos': 'NN', 'w-1 pos': 'VV', 'w-2 pos': 'FX'},\n",
       "  {'w0 word': ' ', 'w0 pos': 'PU', 'w-1 pos': 'NN', 'w-2 pos': 'VV'},\n",
       "  {'w0 word': 'ยังคง', 'w0 pos': 'AX', 'w-1 pos': 'PU', 'w-2 pos': 'NN'},\n",
       "  {'w0 word': 'มี', 'w0 pos': 'VV', 'w-1 pos': 'AX', 'w-2 pos': 'PU'},\n",
       "  {'w0 word': 'ความ', 'w0 pos': 'FX', 'w-1 pos': 'VV', 'w-2 pos': 'AX'},\n",
       "  {'w0 word': 'รุนแรง', 'w0 pos': 'VV', 'w-1 pos': 'FX', 'w-2 pos': 'VV'},\n",
       "  {'w0 word': ' ', 'w0 pos': 'PU', 'w-1 pos': 'VV', 'w-2 pos': 'FX'},\n",
       "  {'w0 word': 'และ', 'w0 pos': 'CC', 'w-1 pos': 'PU', 'w-2 pos': 'VV'},\n",
       "  {'w0 word': 'ขยาย', 'w0 pos': 'VV', 'w-1 pos': 'CC', 'w-2 pos': 'PU'},\n",
       "  {'w0 word': 'วง', 'w0 pos': 'NN', 'w-1 pos': 'VV', 'w-2 pos': 'CC'},\n",
       "  {'w0 word': 'มาก', 'w0 pos': 'VV', 'w-1 pos': 'NN', 'w-2 pos': 'VV'},\n",
       "  {'w0 word': 'ขึ้น', 'w0 pos': 'AV', 'w-1 pos': 'VV', 'w-2 pos': 'NN'},\n",
       "  {'w0 word': 'เรื่อย', 'w0 pos': 'AV', 'w-1 pos': 'AV', 'w-2 pos': 'VV'},\n",
       "  {'w0 word': ' ', 'w0 pos': 'PU', 'w-1 pos': 'AV', 'w-2 pos': 'AV'},\n",
       "  {'w0 word': 'ๆ', 'w0 pos': 'PU', 'w-1 pos': 'PU', 'w-2 pos': 'AV'},\n",
       "  {'w0 word': ' ', 'w0 pos': 'PU', 'w-1 pos': 'PU', 'w-2 pos': 'PU'},\n",
       "  {'w0 word': 'แม้', 'w0 pos': 'CC', 'w-1 pos': 'PU', 'w-2 pos': 'PU'},\n",
       "  {'w0 word': 'ว่า', 'w0 pos': 'CC', 'w-1 pos': 'CC', 'w-2 pos': 'PU'},\n",
       "  {'w0 word': 'ประเทศ', 'w0 pos': 'NN', 'w-1 pos': 'CC', 'w-2 pos': 'CC'},\n",
       "  {'w0 word': 'ต่าง', 'w0 pos': 'AJ', 'w-1 pos': 'NN', 'w-2 pos': 'CC'},\n",
       "  {'w0 word': ' ', 'w0 pos': 'PU', 'w-1 pos': 'AJ', 'w-2 pos': 'NN'},\n",
       "  {'w0 word': 'ๆ', 'w0 pos': 'PU', 'w-1 pos': 'PU', 'w-2 pos': 'AJ'},\n",
       "  {'w0 word': ' ', 'w0 pos': 'PU', 'w-1 pos': 'PU', 'w-2 pos': 'PU'},\n",
       "  {'w0 word': 'จะ', 'w0 pos': 'AX', 'w-1 pos': 'PU', 'w-2 pos': 'PU'},\n",
       "  {'w0 word': 'ให้', 'w0 pos': 'VV', 'w-1 pos': 'AX', 'w-2 pos': 'PU'},\n",
       "  {'w0 word': 'ความ', 'w0 pos': 'FX', 'w-1 pos': 'VV', 'w-2 pos': 'AX'},\n",
       "  {'w0 word': 'สนใจ', 'w0 pos': 'VV', 'w-1 pos': 'FX', 'w-2 pos': 'VV'},\n",
       "  {'w0 word': ' ', 'w0 pos': 'PU', 'w-1 pos': 'VV', 'w-2 pos': 'FX'},\n",
       "  {'w0 word': 'และ', 'w0 pos': 'CC', 'w-1 pos': 'PU', 'w-2 pos': 'VV'},\n",
       "  {'w0 word': 'มีการ', 'w0 pos': 'FX', 'w-1 pos': 'CC', 'w-2 pos': 'PU'},\n",
       "  {'w0 word': 'ปราบปราม', 'w0 pos': 'VV', 'w-1 pos': 'FX', 'w-2 pos': 'CC'},\n",
       "  {'w0 word': 'อย่าง', 'w0 pos': 'FX', 'w-1 pos': 'VV', 'w-2 pos': 'FX'},\n",
       "  {'w0 word': 'จริงจัง', 'w0 pos': 'VV', 'w-1 pos': 'FX', 'w-2 pos': 'VV'},\n",
       "  {'w0 word': 'มาก', 'w0 pos': 'VV', 'w-1 pos': 'VV', 'w-2 pos': 'FX'},\n",
       "  {'w0 word': 'ขึ้น', 'w0 pos': 'AV', 'w-1 pos': 'VV', 'w-2 pos': 'VV'},\n",
       "  {'w0 word': ' ', 'w0 pos': 'PU', 'w-1 pos': 'AV', 'w-2 pos': 'VV'},\n",
       "  {'w0 word': 'ซึ่ง', 'w0 pos': 'CC', 'w-1 pos': 'PU', 'w-2 pos': 'AV'},\n",
       "  {'w0 word': 'ประเทศ', 'w0 pos': 'NN', 'w-1 pos': 'CC', 'w-2 pos': 'PU'},\n",
       "  {'w0 word': 'ไทย', 'w0 pos': 'NN', 'w-1 pos': 'NN', 'w-2 pos': 'CC'},\n",
       "  {'w0 word': 'ก็', 'w0 pos': 'CC', 'w-1 pos': 'NN', 'w-2 pos': 'NN'},\n",
       "  {'w0 word': 'ได้', 'w0 pos': 'AX', 'w-1 pos': 'CC', 'w-2 pos': 'NN'},\n",
       "  {'w0 word': 'มีการ', 'w0 pos': 'FX', 'w-1 pos': 'AX', 'w-2 pos': 'CC'},\n",
       "  {'w0 word': 'ประกาศ', 'w0 pos': 'VV', 'w-1 pos': 'FX', 'w-2 pos': 'AX'},\n",
       "  {'w0 word': 'ใช้', 'w0 pos': 'VV', 'w-1 pos': 'VV', 'w-2 pos': 'FX'},\n",
       "  {'w0 word': 'พระราชบัญญัติ',\n",
       "   'w0 pos': 'NN',\n",
       "   'w-1 pos': 'VV',\n",
       "   'w-2 pos': 'VV'},\n",
       "  {'w0 word': 'ป้องกันและปราบปราม',\n",
       "   'w0 pos': 'NN',\n",
       "   'w-1 pos': 'NN',\n",
       "   'w-2 pos': 'VV'},\n",
       "  {'w0 word': 'การค้า', 'w0 pos': 'NN', 'w-1 pos': 'NN', 'w-2 pos': 'NN'},\n",
       "  {'w0 word': 'มนุษย์', 'w0 pos': 'NN', 'w-1 pos': 'NN', 'w-2 pos': 'NN'},\n",
       "  {'w0 word': ' ', 'w0 pos': 'PU', 'w-1 pos': 'NN', 'w-2 pos': 'NN'},\n",
       "  {'w0 word': 'พ.ศ.', 'w0 pos': 'NN', 'w-1 pos': 'PU', 'w-2 pos': 'NN'},\n",
       "  {'w0 word': ' ', 'w0 pos': 'PU', 'w-1 pos': 'NN', 'w-2 pos': 'PU'},\n",
       "  {'w0 word': '2551', 'w0 pos': 'NU', 'w-1 pos': 'PU', 'w-2 pos': 'NN'},\n",
       "  {'w0 word': ' ', 'w0 pos': 'PU', 'w-1 pos': 'NU', 'w-2 pos': 'PU'},\n",
       "  {'w0 word': 'เป็น', 'w0 pos': 'VV', 'w-1 pos': 'PU', 'w-2 pos': 'NU'},\n",
       "  {'w0 word': 'ครั้ง', 'w0 pos': 'CL', 'w-1 pos': 'VV', 'w-2 pos': 'PU'},\n",
       "  {'w0 word': 'แรก', 'w0 pos': 'NU', 'w-1 pos': 'CL', 'w-2 pos': 'VV'},\n",
       "  {'w0 word': ' ', 'w0 pos': 'PU', 'w-1 pos': 'NU', 'w-2 pos': 'CL'},\n",
       "  {'w0 word': 'ซึ่ง', 'w0 pos': 'CC', 'w-1 pos': 'PU', 'w-2 pos': 'NU'},\n",
       "  {'w0 word': 'ช่วย', 'w0 pos': 'VV', 'w-1 pos': 'CC', 'w-2 pos': 'PU'},\n",
       "  {'w0 word': 'ให้การ', 'w0 pos': 'VV', 'w-1 pos': 'VV', 'w-2 pos': 'CC'},\n",
       "  {'w0 word': 'ดำเนินการ', 'w0 pos': 'VV', 'w-1 pos': 'VV', 'w-2 pos': 'VV'},\n",
       "  {'w0 word': 'ป้องกันและปราบปราม',\n",
       "   'w0 pos': 'VV',\n",
       "   'w-1 pos': 'VV',\n",
       "   'w-2 pos': 'VV'},\n",
       "  {'w0 word': 'ธุรกิจ', 'w0 pos': 'NN', 'w-1 pos': 'VV', 'w-2 pos': 'VV'},\n",
       "  {'w0 word': 'การ', 'w0 pos': 'FX', 'w-1 pos': 'NN', 'w-2 pos': 'VV'},\n",
       "  {'w0 word': 'ค้า', 'w0 pos': 'VV', 'w-1 pos': 'FX', 'w-2 pos': 'NN'},\n",
       "  {'w0 word': 'มนุษย์', 'w0 pos': 'NN', 'w-1 pos': 'VV', 'w-2 pos': 'FX'},\n",
       "  {'w0 word': 'เข้มข้น', 'w0 pos': 'VV', 'w-1 pos': 'NN', 'w-2 pos': 'VV'},\n",
       "  {'w0 word': 'มาก', 'w0 pos': 'VV', 'w-1 pos': 'VV', 'w-2 pos': 'NN'},\n",
       "  {'w0 word': 'ขึ้น', 'w0 pos': 'AV', 'w-1 pos': 'VV', 'w-2 pos': 'VV'},\n",
       "  {'w0 word': ' ', 'w0 pos': 'PU', 'w-1 pos': 'AV', 'w-2 pos': 'VV'},\n",
       "  {'w0 word': 'เกี่ยวกับ', 'w0 pos': 'VV', 'w-1 pos': 'PU', 'w-2 pos': 'AV'},\n",
       "  {'w0 word': 'เรื่อง', 'w0 pos': 'NN', 'w-1 pos': 'VV', 'w-2 pos': 'PU'},\n",
       "  {'w0 word': 'นี้', 'w0 pos': 'AJ', 'w-1 pos': 'NN', 'w-2 pos': 'VV'},\n",
       "  {'w0 word': 'เมื่อ', 'w0 pos': 'PS', 'w-1 pos': 'AJ', 'w-2 pos': 'NN'},\n",
       "  {'w0 word': 'วันที่', 'w0 pos': 'NN', 'w-1 pos': 'PS', 'w-2 pos': 'AJ'},\n",
       "  {'w0 word': ' ', 'w0 pos': 'PU', 'w-1 pos': 'NN', 'w-2 pos': 'PS'},\n",
       "  {'w0 word': '25', 'w0 pos': 'NU', 'w-1 pos': 'PU', 'w-2 pos': 'NN'},\n",
       "  {'w0 word': ' ', 'w0 pos': 'PU', 'w-1 pos': 'NU', 'w-2 pos': 'PU'},\n",
       "  {'w0 word': 'มิ.ย.', 'w0 pos': 'NN', 'w-1 pos': 'PU', 'w-2 pos': 'NU'}]]"
      ]
     },
     "execution_count": 20,
     "metadata": {},
     "output_type": "execute_result"
    }
   ],
   "source": [
    "feature_seq_list[:2]"
   ]
  },
  {
   "cell_type": "code",
   "execution_count": null,
   "metadata": {},
   "outputs": [],
   "source": [
    "#import sklearn_crfsuite.metrics\n",
    "#print(sklearn_crfsuite.metrics.flat_classification_report(label_seq_list, train_pred))"
   ]
  },
  {
   "cell_type": "code",
   "execution_count": 17,
   "metadata": {},
   "outputs": [],
   "source": [
    "def joinSeqTag(seqs, tags):\n",
    "    output = []\n",
    "    for i in range(len(seqs)):\n",
    "        temp = []\n",
    "        for token, tag in zip(seqs[i], tags[i]):\n",
    "            if tag != \"O\":\n",
    "                temp.append( (token[0],tag) )\n",
    "\n",
    "        output.append(temp)\n",
    "        \n",
    "    return output\n",
    "\n",
    "test_output = joinSeqTag(test_seqs, test_pred)\n",
    "dev_output  = joinSeqTag(dev_seqs, dev_pred)\n",
    "\n",
    "from lst20utils import extract_entities\n",
    "test_pred_output = [extract_entities(e, post=True)[1] for e in test_output]\n",
    "dev_pred_output = [extract_entities(e, post=True)[1] for e in dev_output]"
   ]
  },
  {
   "cell_type": "markdown",
   "metadata": {},
   "source": [
    "# Save result"
   ]
  },
  {
   "cell_type": "code",
   "execution_count": 18,
   "metadata": {},
   "outputs": [],
   "source": [
    "import json\n",
    "json.dump(dev_pred_output, open('result/predicted_dev_entities_me_tok_3feat.json', encoding='utf8', mode='w'))\n",
    "json.dump(test_pred_output, open('result/predicted_test_entities_me_tok_3feat.json', encoding='utf8', mode='w'))\n"
   ]
  },
  {
   "cell_type": "markdown",
   "metadata": {},
   "source": [
    "| file      | Description |\n",
    "| ----------- | ----------- |\n",
    "| **model_1**: `models/crf_3_feat.crfsuite`   | CRF model, use 3 features, pos tag by corpus        |\n",
    "| **model_2**: `models/crf_1_feat_me_tok.crfsuite`      | CRF model, use 1 feature (currect token), pos tag by Pythai       |\n",
    "| **model_3**: `models/crf_3_feat_me_tok.crfsuite`      | CRF model, use 3 features, pos tag by Pythai       |\n",
    "| `result/test_pred_output_re.json` | output on *test set* by *model_1* |\n",
    "| `result/predicted_dev_entities.json` | output on *dev set* by *model_1* |\n",
    "| `result/predicted_train_entities.json` | output on *train set* by *model_1* |\n",
    "| `result/predicted_test_entities_me_tok_1feat.json` | output on *test set* by *model_2* |\n",
    "| `result/predicted_dev_entities_me_tok_1feat.json` | output on *dev set* by *model_2* |\n",
    "| `result/predicted_test_entities_me_tok_3feat.json` | output on *test set* by *model_3* |\n",
    "| `result/predicted_dev_entities_me_tok_3feat.json` | output on *dev set* by *model_3* |"
   ]
  },
  {
   "cell_type": "markdown",
   "metadata": {},
   "source": [
    "to evaluate: `python3 evaluate.py data/dev_entities.json result/predicted_dev_entities_me_tok_1feat.jsonn`"
   ]
  },
  {
   "cell_type": "markdown",
   "metadata": {},
   "source": [
    "# Make prediction on Test set\n",
    "Inferencing test set needs a bit workaround bc. we need POS and test data from corpus, and mapping from a given test data."
   ]
  },
  {
   "cell_type": "code",
   "execution_count": 29,
   "metadata": {},
   "outputs": [],
   "source": [
    "# read test file\n",
    "with open(\"data/raw/test_set.txt\", \"r\") as f:\n",
    "    test_file = f.readlines() \n",
    "\n",
    "import re\n",
    "# tokenize\n",
    "test_seqs_given = [e.strip(\"\\n\") for e in test_file]\n",
    "test_seqs_given = [re.sub(\"\\|\",\"\",e) for e in test_seqs_given]"
   ]
  },
  {
   "cell_type": "code",
   "execution_count": 15,
   "metadata": {},
   "outputs": [],
   "source": [
    "test_sentences = {}\n",
    "\n",
    "for i, seq in enumerate(test_seqs):\n",
    "    tokens = [e[0] for e in seq]\n",
    "    sentence = ''.join(tokens)\n",
    "    test_sentences[sentence] = test_pred_output[i]\n"
   ]
  },
  {
   "cell_type": "code",
   "execution_count": 36,
   "metadata": {},
   "outputs": [],
   "source": [
    "test_pred_output_re = []\n",
    "for test_sentence in test_seqs_given:\n",
    "    test_pred_output_re.append( test_sentences[test_sentence] )"
   ]
  },
  {
   "cell_type": "code",
   "execution_count": 38,
   "metadata": {},
   "outputs": [],
   "source": [
    "import json\n",
    "json.dump(test_pred_output_re, open('result/test_pred_output_re.json', encoding='utf8', mode='w'))"
   ]
  },
  {
   "cell_type": "code",
   "execution_count": null,
   "metadata": {},
   "outputs": [],
   "source": []
  }
 ],
 "metadata": {
  "interpreter": {
   "hash": "21fd0c4c56f232978d37f42fade3398e333d4f11a8a30408db82c91c0032412b"
  },
  "kernelspec": {
   "display_name": "Python 3.8.10 ('venv': venv)",
   "language": "python",
   "name": "python3"
  },
  "language_info": {
   "codemirror_mode": {
    "name": "ipython",
    "version": 3
   },
   "file_extension": ".py",
   "mimetype": "text/x-python",
   "name": "python",
   "nbconvert_exporter": "python",
   "pygments_lexer": "ipython3",
   "version": "3.8.10"
  },
  "orig_nbformat": 4
 },
 "nbformat": 4,
 "nbformat_minor": 2
}
